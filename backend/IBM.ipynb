{
  "cells": [
    {
      "cell_type": "code",
      "execution_count": 2,
      "metadata": {
        "id": "4keb_5BqapEy"
      },
      "outputs": [],
      "source": [
        "import pandas as pd"
      ]
    },
    {
      "cell_type": "code",
      "execution_count": 3,
      "metadata": {
        "id": "VPe2ANDjcEni"
      },
      "outputs": [],
      "source": [
        "wasteWhiz=pd.read_csv('train.csv')"
      ]
    },
    {
      "cell_type": "code",
      "execution_count": 4,
      "metadata": {
        "id": "9zISNR0ocKgi"
      },
      "outputs": [],
      "source": [
        "df=wasteWhiz.copy()"
      ]
    },
    {
      "cell_type": "code",
      "execution_count": 4,
      "metadata": {
        "colab": {
          "base_uri": "https://localhost:8080/"
        },
        "id": "1UfS04YIcZ4n",
        "outputId": "b7e0ea38-134f-4d48-f24c-17eabbbac745"
      },
      "outputs": [
        {
          "data": {
            "text/plain": [
              "Index(['Deal_title', 'Lead_name', 'Industry', 'Deal_value', 'Weighted_amount',\n",
              "       'Date_of_creation', 'Pitch', 'Contact_no', 'Lead_revenue',\n",
              "       'Fund_category', 'Geography', 'Location', 'POC_name', 'Designation',\n",
              "       'Lead_POC_email', 'Hiring_candidate_role', 'Lead_source',\n",
              "       'Level_of_meeting', 'Last_lead_update', 'Internal_POC', 'Resource',\n",
              "       'Internal_rating', 'Success_probability'],\n",
              "      dtype='object')"
            ]
          },
          "execution_count": 4,
          "metadata": {},
          "output_type": "execute_result"
        }
      ],
      "source": [
        "df.columns"
      ]
    },
    {
      "cell_type": "code",
      "execution_count": 5,
      "metadata": {
        "id": "0o0-cMPscOi7"
      },
      "outputs": [],
      "source": [
        "#removing unnecessary columns\n",
        "df=df.drop(['Deal_title','Lead_name','Contact_no','Geography','Location','POC_name','Designation','Lead_POC_email','Lead_source'],axis=1)"
      ]
    },
    {
      "cell_type": "code",
      "execution_count": 6,
      "metadata": {
        "colab": {
          "base_uri": "https://localhost:8080/"
        },
        "id": "HuBnn9BUdIPb",
        "outputId": "c0154c91-21a7-48d8-e3ac-e31b29d0cac7"
      },
      "outputs": [
        {
          "data": {
            "text/plain": [
              "Index(['Industry', 'Deal_value', 'Weighted_amount', 'Date_of_creation',\n",
              "       'Pitch', 'Lead_revenue', 'Fund_category', 'Hiring_candidate_role',\n",
              "       'Level_of_meeting', 'Last_lead_update', 'Internal_POC', 'Resource',\n",
              "       'Internal_rating', 'Success_probability'],\n",
              "      dtype='object')"
            ]
          },
          "execution_count": 6,
          "metadata": {},
          "output_type": "execute_result"
        }
      ],
      "source": [
        "df.columns"
      ]
    },
    {
      "cell_type": "code",
      "execution_count": 6,
      "metadata": {
        "colab": {
          "base_uri": "https://localhost:8080/"
        },
        "id": "3ghW9MgklEGZ",
        "outputId": "7f9bf18e-fd54-428d-cff0-029dd422f387"
      },
      "outputs": [
        {
          "data": {
            "text/plain": [
              "Industry                  object\n",
              "Deal_value                object\n",
              "Weighted_amount           object\n",
              "Date_of_creation          object\n",
              "Pitch                     object\n",
              "Lead_revenue              object\n",
              "Fund_category             object\n",
              "Hiring_candidate_role     object\n",
              "Level_of_meeting          object\n",
              "Last_lead_update          object\n",
              "Internal_POC              object\n",
              "Resource                  object\n",
              "Internal_rating            int64\n",
              "Success_probability      float64\n",
              "dtype: object"
            ]
          },
          "execution_count": 6,
          "metadata": {},
          "output_type": "execute_result"
        }
      ],
      "source": [
        "#checking the datatypes of the columns\n",
        "df.dtypes"
      ]
    },
    {
      "cell_type": "code",
      "execution_count": 8,
      "metadata": {
        "colab": {
          "base_uri": "https://localhost:8080/"
        },
        "id": "2MTP1aE2dOMY",
        "outputId": "4935470a-332f-4ba3-ea21-aa70fdeae7e9"
      },
      "outputs": [
        {
          "data": {
            "text/plain": [
              "Industry                   1\n",
              "Deal_value                51\n",
              "Weighted_amount          525\n",
              "Date_of_creation           0\n",
              "Pitch                      0\n",
              "Lead_revenue               0\n",
              "Fund_category              0\n",
              "Hiring_candidate_role      0\n",
              "Level_of_meeting           0\n",
              "Last_lead_update         633\n",
              "Internal_POC               0\n",
              "Resource                 149\n",
              "Internal_rating            0\n",
              "Success_probability        0\n",
              "dtype: int64"
            ]
          },
          "execution_count": 8,
          "metadata": {},
          "output_type": "execute_result"
        }
      ],
      "source": [
        "#checking for null values\n",
        "df.isnull().sum()"
      ]
    },
    {
      "cell_type": "code",
      "execution_count": 7,
      "metadata": {
        "id": "LLg1OEpLdddd"
      },
      "outputs": [],
      "source": [
        "#filling the null values and dropping few null values\n",
        "#Deal_value and Weighted_amount with average\n",
        "df=df.dropna(subset=['Deal_value','Weighted_amount']).reset_index()"
      ]
    },
    {
      "cell_type": "code",
      "execution_count": 8,
      "metadata": {
        "id": "0rkNDUKEoMd0"
      },
      "outputs": [],
      "source": [
        "#Last_lead_update,Industry,Resource\n",
        "x=df['Industry'].value_counts().max()\n",
        "df['Industry']=df['Industry'].fillna(x)\n",
        "x=df['Last_lead_update'].value_counts().max()\n",
        "df['Last_lead_update']=df['Last_lead_update'].fillna(x)\n",
        "x=df['Resource'].value_counts().max()\n",
        "df['Resource']=df['Resource'].fillna(x)"
      ]
    },
    {
      "cell_type": "code",
      "execution_count": 9,
      "metadata": {
        "colab": {
          "base_uri": "https://localhost:8080/"
        },
        "id": "LXFgcG3IpJEG",
        "outputId": "e4711e33-6152-4687-bb28-7e96bf770e90"
      },
      "outputs": [
        {
          "data": {
            "text/plain": [
              "index                    0\n",
              "Industry                 0\n",
              "Deal_value               0\n",
              "Weighted_amount          0\n",
              "Date_of_creation         0\n",
              "Pitch                    0\n",
              "Lead_revenue             0\n",
              "Fund_category            0\n",
              "Hiring_candidate_role    0\n",
              "Level_of_meeting         0\n",
              "Last_lead_update         0\n",
              "Internal_POC             0\n",
              "Resource                 0\n",
              "Internal_rating          0\n",
              "Success_probability      0\n",
              "dtype: int64"
            ]
          },
          "execution_count": 9,
          "metadata": {},
          "output_type": "execute_result"
        }
      ],
      "source": [
        "df.isnull().sum()"
      ]
    },
    {
      "cell_type": "code",
      "execution_count": 10,
      "metadata": {
        "colab": {
          "base_uri": "https://localhost:8080/"
        },
        "id": "lbyXfd6ap0ut",
        "outputId": "9e96e62e-95af-4c1c-84d3-68b13fcafe4b"
      },
      "outputs": [
        {
          "data": {
            "text/plain": [
              "index                      int64\n",
              "Industry                  object\n",
              "Deal_value                object\n",
              "Weighted_amount           object\n",
              "Date_of_creation          object\n",
              "Pitch                     object\n",
              "Lead_revenue              object\n",
              "Fund_category             object\n",
              "Hiring_candidate_role     object\n",
              "Level_of_meeting          object\n",
              "Last_lead_update          object\n",
              "Internal_POC              object\n",
              "Resource                  object\n",
              "Internal_rating            int64\n",
              "Success_probability      float64\n",
              "dtype: object"
            ]
          },
          "execution_count": 10,
          "metadata": {},
          "output_type": "execute_result"
        }
      ],
      "source": [
        "df.dtypes"
      ]
    },
    {
      "cell_type": "code",
      "execution_count": 11,
      "metadata": {
        "colab": {
          "base_uri": "https://localhost:8080/"
        },
        "id": "770wnKNxp28x",
        "outputId": "3c1db4e6-e1eb-4725-d0c2-e4b60f30ea2d"
      },
      "outputs": [
        {
          "name": "stderr",
          "output_type": "stream",
          "text": [
            "C:\\Users\\hp\\AppData\\Local\\Temp\\ipykernel_3928\\3755706018.py:2: FutureWarning: The default value of regex will change from True to False in a future version. In addition, single character regular expressions will *not* be treated as literal strings when regex=True.\n",
            "  df['Deal_value']=df['Deal_value'].str.replace('$','').astype(int)\n"
          ]
        }
      ],
      "source": [
        "#converting the object\n",
        "df['Deal_value']=df['Deal_value'].str.replace('$','').astype(int)"
      ]
    },
    {
      "cell_type": "code",
      "execution_count": 12,
      "metadata": {
        "colab": {
          "base_uri": "https://localhost:8080/"
        },
        "id": "Qe_xcMNqqF0E",
        "outputId": "b26db324-87a5-4568-bb0c-0e97137b20d3"
      },
      "outputs": [
        {
          "name": "stderr",
          "output_type": "stream",
          "text": [
            "C:\\Users\\hp\\AppData\\Local\\Temp\\ipykernel_3928\\2667808364.py:1: FutureWarning: The default value of regex will change from True to False in a future version. In addition, single character regular expressions will *not* be treated as literal strings when regex=True.\n",
            "  df['Weighted_amount']=df['Weighted_amount'].str.replace('$','').astype(float)\n"
          ]
        }
      ],
      "source": [
        "df['Weighted_amount']=df['Weighted_amount'].str.replace('$','').astype(float)"
      ]
    },
    {
      "cell_type": "code",
      "execution_count": 13,
      "metadata": {
        "colab": {
          "base_uri": "https://localhost:8080/"
        },
        "id": "HYw0Z9iRqSYh",
        "outputId": "b1b85f47-1afb-4a0c-9edb-3b0c6972af69"
      },
      "outputs": [
        {
          "data": {
            "text/plain": [
              "500 Million - 1 Billion    2186\n",
              "100 - 500 Million          2158\n",
              "50 - 100 Million           2091\n",
              "Name: Lead_revenue, dtype: int64"
            ]
          },
          "execution_count": 13,
          "metadata": {},
          "output_type": "execute_result"
        }
      ],
      "source": [
        "df['Lead_revenue'].value_counts()"
      ]
    },
    {
      "cell_type": "code",
      "execution_count": 14,
      "metadata": {
        "colab": {
          "base_uri": "https://localhost:8080/"
        },
        "id": "ns4FHGQfGW9E",
        "outputId": "7253bd87-67cc-4a77-c597-3dfc4cda363a"
      },
      "outputs": [
        {
          "data": {
            "text/plain": [
              "Banks                        1373\n",
              "Insurance                     393\n",
              "Financial Services            364\n",
              "Real Estate                   192\n",
              "Investment Bank/Brokerage     191\n",
              "                             ... \n",
              "Hardware Consulting             1\n",
              "Speech Recognition              1\n",
              "eMail/Messaging                 1\n",
              "Internet                        1\n",
              "Web Development                 1\n",
              "Name: Industry, Length: 172, dtype: int64"
            ]
          },
          "execution_count": 14,
          "metadata": {},
          "output_type": "execute_result"
        }
      ],
      "source": [
        "df['Industry'].value_counts()"
      ]
    },
    {
      "cell_type": "code",
      "execution_count": 17,
      "metadata": {
        "id": "0VyfDMzyGb6g"
      },
      "outputs": [],
      "source": [
        "del df['Date_of_creation']"
      ]
    },
    {
      "cell_type": "code",
      "execution_count": 18,
      "metadata": {
        "colab": {
          "base_uri": "https://localhost:8080/"
        },
        "id": "tC7sXgsQGjdF",
        "outputId": "5eca4358-d4bc-49af-a309-aceab0de8dd3"
      },
      "outputs": [
        {
          "data": {
            "text/plain": [
              "Product_2    3226\n",
              "Product_1    3209\n",
              "Name: Pitch, dtype: int64"
            ]
          },
          "execution_count": 18,
          "metadata": {},
          "output_type": "execute_result"
        }
      ],
      "source": [
        "df['Pitch'].value_counts()"
      ]
    },
    {
      "cell_type": "code",
      "execution_count": 19,
      "metadata": {
        "colab": {
          "base_uri": "https://localhost:8080/"
        },
        "id": "i2dhAWeXGoBH",
        "outputId": "3ddef16e-42fe-4ac3-ff59-fb9c324cbb7f"
      },
      "outputs": [
        {
          "data": {
            "text/plain": [
              "Category 3    1650\n",
              "Category 2    1645\n",
              "Category 1    1600\n",
              "Category 4    1540\n",
              "Name: Fund_category, dtype: int64"
            ]
          },
          "execution_count": 19,
          "metadata": {},
          "output_type": "execute_result"
        }
      ],
      "source": [
        "df['Fund_category'].value_counts()"
      ]
    },
    {
      "cell_type": "code",
      "execution_count": 24,
      "metadata": {
        "colab": {
          "base_uri": "https://localhost:8080/"
        },
        "id": "oTv5_BJxGt2I",
        "outputId": "8021302c-7a2a-488e-aec7-f6d73068e4f5"
      },
      "outputs": [],
      "source": [
        "l=list(df['Hiring_candidate_role'].value_counts().index)\n",
        "l.sort()"
      ]
    },
    {
      "cell_type": "code",
      "execution_count": 31,
      "metadata": {},
      "outputs": [
        {
          "data": {
            "text/plain": [
              "126"
            ]
          },
          "execution_count": 31,
          "metadata": {},
          "output_type": "execute_result"
        }
      ],
      "source": [
        "l.index('Community pharmacist')"
      ]
    },
    {
      "cell_type": "code",
      "execution_count": null,
      "metadata": {
        "colab": {
          "base_uri": "https://localhost:8080/"
        },
        "id": "_lAmEZcVGzjN",
        "outputId": "b1270011-c610-4939-e490-d9e0ec62044c"
      },
      "outputs": [
        {
          "data": {
            "text/plain": [
              "Level 1    2213\n",
              "Level 3    2111\n",
              "Level 2    2111\n",
              "Name: Level_of_meeting, dtype: int64"
            ]
          },
          "execution_count": 21,
          "metadata": {},
          "output_type": "execute_result"
        }
      ],
      "source": [
        "df['Level_of_meeting'].value_counts()"
      ]
    },
    {
      "cell_type": "code",
      "execution_count": null,
      "metadata": {
        "colab": {
          "base_uri": "https://localhost:8080/"
        },
        "id": "0PyOgi5xG9Nl",
        "outputId": "df985a5f-60a8-4b35-caf5-536748c9ee3a"
      },
      "outputs": [
        {
          "data": {
            "text/plain": [
              "Following up but lead not responding    588\n",
              "588                                     575\n",
              "Up-to-date                              573\n",
              "more than a month                       566\n",
              "No track                                543\n",
              "?                                       538\n",
              "More than 2 weeks                       515\n",
              "5 days back                             514\n",
              "Pending                                 509\n",
              "Did not hear back after Level 1         507\n",
              "2 days back                             507\n",
              "More than a week back                   500\n",
              "Name: Last_lead_update, dtype: int64"
            ]
          },
          "execution_count": 22,
          "metadata": {},
          "output_type": "execute_result"
        }
      ],
      "source": [
        "df['Last_lead_update'].value_counts()"
      ]
    },
    {
      "cell_type": "code",
      "execution_count": null,
      "metadata": {
        "colab": {
          "base_uri": "https://localhost:8080/"
        },
        "id": "Indtu6AwHFGq",
        "outputId": "ad47838a-9e91-416f-eed8-d21d293c6061"
      },
      "outputs": [
        {
          "data": {
            "text/plain": [
              "Hebron,Artenia D             127\n",
              "Booker,David L               126\n",
              "Dunaway,Antoine              124\n",
              "Ullrich,Rose Anne            122\n",
              "Gilley,Janine                121\n",
              "Turner,Marlon D              118\n",
              "Heidelberg,Andre D           118\n",
              "Hameier,Kurt E               118\n",
              "Green,Ann E                  117\n",
              "Green,Candy                  117\n",
              "Maine,John P                 117\n",
              "Davis,Sharrice A             116\n",
              "Murray,Younetta              116\n",
              "Rocks,Michael J              115\n",
              "Leu,Darren L                 115\n",
              "Carter Sr,Clifton E          114\n",
              "Himes,Maurice C              114\n",
              "Sutton,Michelle R            113\n",
              "Davis,Brian R                112\n",
              "Jones,Michael L              112\n",
              "Shelton,Sidney P             111\n",
              "Featherstone,Adrian R        111\n",
              "Mabrey,Kevin C               111\n",
              "Cash,Tyrone J                110\n",
              "Dimattia,Frank D             110\n",
              "Kiepea,Prince A              110\n",
              "Clavey,Therese A             110\n",
              "Salyers,Daniel L             110\n",
              "Morsy,Omar A                 109\n",
              "Meli,Teresa V                109\n",
              "Hanyok,John J                108\n",
              "Jones,Eyvette W              108\n",
              "Ali,Mohamed                  107\n",
              "Young,Valerie K              107\n",
              "Charles,Caleb                106\n",
              "Logan,Kevin N                105\n",
              "Thomas,Lori E                104\n",
              "Gould,Lisa D                 103\n",
              "Cashin,Marc C                103\n",
              "Ross,Eric L                  103\n",
              "Vickers Jr.,Henry J          102\n",
              "Knox,Antonio D               102\n",
              "Ryker,David                  102\n",
              "Georgakopoulos,Vasilios T    102\n",
              "Gaskins Jr,Franklin D        102\n",
              "Van Arter,Derrick            101\n",
              "Brown,Maxine A               100\n",
              "Smith,Keenan H                99\n",
              "Massiah,Gerard F              99\n",
              "Irizarry,Yolanda              98\n",
              "Moran,Natalie A               96\n",
              "Dyson,William A               96\n",
              "Robinson,John C               96\n",
              "Houston,Arnold E              94\n",
              "Tondeur,Keith D               94\n",
              "McKenstry,Loretta A           91\n",
              "Bannister,Joan                90\n",
              "Pappas,Mark S                 89\n",
              "Anthony,Katherine D           89\n",
              "Abdul-Hamid,Saud Muhamad      86\n",
              "Name: Internal_POC, dtype: int64"
            ]
          },
          "execution_count": 23,
          "metadata": {},
          "output_type": "execute_result"
        }
      ],
      "source": [
        "df['Internal_POC'].value_counts()"
      ]
    },
    {
      "cell_type": "code",
      "execution_count": null,
      "metadata": {
        "id": "Eq9twS7sHPs7"
      },
      "outputs": [],
      "source": [
        "#internal POC not required\n",
        "del df['Internal_POC']"
      ]
    },
    {
      "cell_type": "code",
      "execution_count": null,
      "metadata": {
        "colab": {
          "base_uri": "https://localhost:8080/"
        },
        "id": "zuWIcp0hHc_7",
        "outputId": "f979a474-2598-4e13-9ac4-11c131e4b2a6"
      },
      "outputs": [
        {
          "data": {
            "text/plain": [
              "No                              1092\n",
              "We have all the requirements    1070\n",
              "Not enough                      1053\n",
              "Deliverable                     1041\n",
              "Yes                             1024\n",
              "Cannot deliver                  1021\n",
              "1092                             134\n",
              "Name: Resource, dtype: int64"
            ]
          },
          "execution_count": 25,
          "metadata": {},
          "output_type": "execute_result"
        }
      ],
      "source": [
        "df['Resource'].value_counts()"
      ]
    },
    {
      "cell_type": "code",
      "execution_count": 15,
      "metadata": {
        "colab": {
          "base_uri": "https://localhost:8080/"
        },
        "id": "AvH3EHpSHfrN",
        "outputId": "0b8b7d53-7202-40e2-8fca-a83cd80b9243"
      },
      "outputs": [],
      "source": [
        "l1=list(df['Internal_rating'].value_counts().index)"
      ]
    },
    {
      "cell_type": "code",
      "execution_count": 16,
      "metadata": {},
      "outputs": [],
      "source": [
        "l1.sort()"
      ]
    },
    {
      "cell_type": "code",
      "execution_count": 18,
      "metadata": {},
      "outputs": [
        {
          "data": {
            "text/plain": [
              "2"
            ]
          },
          "execution_count": 18,
          "metadata": {},
          "output_type": "execute_result"
        }
      ],
      "source": [
        "l1.index(3)"
      ]
    },
    {
      "cell_type": "code",
      "execution_count": null,
      "metadata": {
        "colab": {
          "base_uri": "https://localhost:8080/"
        },
        "id": "hDddA4uYHnHZ",
        "outputId": "118b11b3-4b49-4803-c3b7-93afde843759"
      },
      "outputs": [
        {
          "data": {
            "text/plain": [
              "index                      int64\n",
              "Industry                  object\n",
              "Deal_value                 int32\n",
              "Weighted_amount          float64\n",
              "Pitch                     object\n",
              "Lead_revenue              object\n",
              "Fund_category             object\n",
              "Hiring_candidate_role     object\n",
              "Level_of_meeting          object\n",
              "Last_lead_update          object\n",
              "Resource                  object\n",
              "Internal_rating            int64\n",
              "Success_probability      float64\n",
              "dtype: object"
            ]
          },
          "execution_count": 27,
          "metadata": {},
          "output_type": "execute_result"
        }
      ],
      "source": [
        "df.dtypes"
      ]
    },
    {
      "cell_type": "code",
      "execution_count": null,
      "metadata": {
        "id": "X93ZiW_xHsx8"
      },
      "outputs": [],
      "source": [
        "#giving the numeric values to the attributes\n",
        "from sklearn.preprocessing import LabelEncoder\n",
        "le=LabelEncoder()\n",
        "cols=['Industry','Pitch','Lead_revenue','Fund_category','Hiring_candidate_role','Level_of_meeting','Last_lead_update','Resource']\n",
        "for i in cols:\n",
        "  df[i]=le.fit_transform(df[i].astype(str))"
      ]
    },
    {
      "cell_type": "code",
      "execution_count": null,
      "metadata": {
        "colab": {
          "base_uri": "https://localhost:8080/",
          "height": 226
        },
        "id": "8HwOi5QFJkdo",
        "outputId": "8a9053a1-424d-4acb-f97f-160af7009f59"
      },
      "outputs": [
        {
          "data": {
            "text/html": [
              "<div>\n",
              "<style scoped>\n",
              "    .dataframe tbody tr th:only-of-type {\n",
              "        vertical-align: middle;\n",
              "    }\n",
              "\n",
              "    .dataframe tbody tr th {\n",
              "        vertical-align: top;\n",
              "    }\n",
              "\n",
              "    .dataframe thead th {\n",
              "        text-align: right;\n",
              "    }\n",
              "</style>\n",
              "<table border=\"1\" class=\"dataframe\">\n",
              "  <thead>\n",
              "    <tr style=\"text-align: right;\">\n",
              "      <th></th>\n",
              "      <th>index</th>\n",
              "      <th>Industry</th>\n",
              "      <th>Deal_value</th>\n",
              "      <th>Weighted_amount</th>\n",
              "      <th>Pitch</th>\n",
              "      <th>Lead_revenue</th>\n",
              "      <th>Fund_category</th>\n",
              "      <th>Hiring_candidate_role</th>\n",
              "      <th>Level_of_meeting</th>\n",
              "      <th>Last_lead_update</th>\n",
              "      <th>Resource</th>\n",
              "      <th>Internal_rating</th>\n",
              "      <th>Success_probability</th>\n",
              "    </tr>\n",
              "  </thead>\n",
              "  <tbody>\n",
              "    <tr>\n",
              "      <th>0</th>\n",
              "      <td>0</td>\n",
              "      <td>120</td>\n",
              "      <td>320506</td>\n",
              "      <td>2067263.7</td>\n",
              "      <td>1</td>\n",
              "      <td>1</td>\n",
              "      <td>1</td>\n",
              "      <td>126</td>\n",
              "      <td>2</td>\n",
              "      <td>8</td>\n",
              "      <td>0</td>\n",
              "      <td>3</td>\n",
              "      <td>73.6</td>\n",
              "    </tr>\n",
              "    <tr>\n",
              "      <th>1</th>\n",
              "      <td>1</td>\n",
              "      <td>32</td>\n",
              "      <td>39488</td>\n",
              "      <td>240876.8</td>\n",
              "      <td>1</td>\n",
              "      <td>2</td>\n",
              "      <td>3</td>\n",
              "      <td>501</td>\n",
              "      <td>0</td>\n",
              "      <td>4</td>\n",
              "      <td>3</td>\n",
              "      <td>5</td>\n",
              "      <td>58.9</td>\n",
              "    </tr>\n",
              "    <tr>\n",
              "      <th>2</th>\n",
              "      <td>2</td>\n",
              "      <td>57</td>\n",
              "      <td>359392</td>\n",
              "      <td>2407926.4</td>\n",
              "      <td>0</td>\n",
              "      <td>2</td>\n",
              "      <td>3</td>\n",
              "      <td>286</td>\n",
              "      <td>0</td>\n",
              "      <td>3</td>\n",
              "      <td>3</td>\n",
              "      <td>4</td>\n",
              "      <td>68.8</td>\n",
              "    </tr>\n",
              "    <tr>\n",
              "      <th>3</th>\n",
              "      <td>3</td>\n",
              "      <td>115</td>\n",
              "      <td>76774</td>\n",
              "      <td>468321.4</td>\n",
              "      <td>1</td>\n",
              "      <td>2</td>\n",
              "      <td>2</td>\n",
              "      <td>611</td>\n",
              "      <td>1</td>\n",
              "      <td>4</td>\n",
              "      <td>5</td>\n",
              "      <td>1</td>\n",
              "      <td>64.5</td>\n",
              "    </tr>\n",
              "    <tr>\n",
              "      <th>4</th>\n",
              "      <td>5</td>\n",
              "      <td>18</td>\n",
              "      <td>418674</td>\n",
              "      <td>2637646.2</td>\n",
              "      <td>0</td>\n",
              "      <td>1</td>\n",
              "      <td>1</td>\n",
              "      <td>381</td>\n",
              "      <td>2</td>\n",
              "      <td>0</td>\n",
              "      <td>2</td>\n",
              "      <td>3</td>\n",
              "      <td>66.3</td>\n",
              "    </tr>\n",
              "  </tbody>\n",
              "</table>\n",
              "</div>"
            ],
            "text/plain": [
              "   index  Industry  Deal_value  Weighted_amount  Pitch  Lead_revenue  \\\n",
              "0      0       120      320506        2067263.7      1             1   \n",
              "1      1        32       39488         240876.8      1             2   \n",
              "2      2        57      359392        2407926.4      0             2   \n",
              "3      3       115       76774         468321.4      1             2   \n",
              "4      5        18      418674        2637646.2      0             1   \n",
              "\n",
              "   Fund_category  Hiring_candidate_role  Level_of_meeting  Last_lead_update  \\\n",
              "0              1                    126                 2                 8   \n",
              "1              3                    501                 0                 4   \n",
              "2              3                    286                 0                 3   \n",
              "3              2                    611                 1                 4   \n",
              "4              1                    381                 2                 0   \n",
              "\n",
              "   Resource  Internal_rating  Success_probability  \n",
              "0         0                3                 73.6  \n",
              "1         3                5                 58.9  \n",
              "2         3                4                 68.8  \n",
              "3         5                1                 64.5  \n",
              "4         2                3                 66.3  "
            ]
          },
          "execution_count": 29,
          "metadata": {},
          "output_type": "execute_result"
        }
      ],
      "source": [
        "df.head()"
      ]
    },
    {
      "cell_type": "code",
      "execution_count": 26,
      "metadata": {},
      "outputs": [
        {
          "data": {
            "text/html": [
              "<div>\n",
              "<style scoped>\n",
              "    .dataframe tbody tr th:only-of-type {\n",
              "        vertical-align: middle;\n",
              "    }\n",
              "\n",
              "    .dataframe tbody tr th {\n",
              "        vertical-align: top;\n",
              "    }\n",
              "\n",
              "    .dataframe thead th {\n",
              "        text-align: right;\n",
              "    }\n",
              "</style>\n",
              "<table border=\"1\" class=\"dataframe\">\n",
              "  <thead>\n",
              "    <tr style=\"text-align: right;\">\n",
              "      <th></th>\n",
              "      <th>Deal_title</th>\n",
              "      <th>Lead_name</th>\n",
              "      <th>Industry</th>\n",
              "      <th>Deal_value</th>\n",
              "      <th>Weighted_amount</th>\n",
              "      <th>Date_of_creation</th>\n",
              "      <th>Pitch</th>\n",
              "      <th>Contact_no</th>\n",
              "      <th>Lead_revenue</th>\n",
              "      <th>Fund_category</th>\n",
              "      <th>...</th>\n",
              "      <th>Designation</th>\n",
              "      <th>Lead_POC_email</th>\n",
              "      <th>Hiring_candidate_role</th>\n",
              "      <th>Lead_source</th>\n",
              "      <th>Level_of_meeting</th>\n",
              "      <th>Last_lead_update</th>\n",
              "      <th>Internal_POC</th>\n",
              "      <th>Resource</th>\n",
              "      <th>Internal_rating</th>\n",
              "      <th>Success_probability</th>\n",
              "    </tr>\n",
              "  </thead>\n",
              "  <tbody>\n",
              "    <tr>\n",
              "      <th>0</th>\n",
              "      <td>TitleM5DZY</td>\n",
              "      <td>Davis, Perkins and Bishop Inc</td>\n",
              "      <td>Restaurants</td>\n",
              "      <td>320506$</td>\n",
              "      <td>2067263.7$</td>\n",
              "      <td>03/29/2020</td>\n",
              "      <td>Product_2</td>\n",
              "      <td>607.447.7883</td>\n",
              "      <td>50 - 100 Million</td>\n",
              "      <td>Category 2</td>\n",
              "      <td>...</td>\n",
              "      <td>Executive Vice President</td>\n",
              "      <td>charlenewerner@davis.com</td>\n",
              "      <td>Community pharmacist</td>\n",
              "      <td>Website</td>\n",
              "      <td>Level 3</td>\n",
              "      <td>No track</td>\n",
              "      <td>Davis,Sharrice A</td>\n",
              "      <td>NaN</td>\n",
              "      <td>3</td>\n",
              "      <td>73.60</td>\n",
              "    </tr>\n",
              "    <tr>\n",
              "      <th>1</th>\n",
              "      <td>TitleKIW18</td>\n",
              "      <td>Bender PLC LLC</td>\n",
              "      <td>Construction Services</td>\n",
              "      <td>39488$</td>\n",
              "      <td>240876.8$</td>\n",
              "      <td>07/10/2019</td>\n",
              "      <td>Product_2</td>\n",
              "      <td>892-938-9493</td>\n",
              "      <td>500 Million - 1 Billion</td>\n",
              "      <td>Category 4</td>\n",
              "      <td>...</td>\n",
              "      <td>Chairman/CEO/President</td>\n",
              "      <td>terrylogan@bender.com</td>\n",
              "      <td>Recruitment consultant</td>\n",
              "      <td>Others</td>\n",
              "      <td>Level 1</td>\n",
              "      <td>Did not hear back after Level 1</td>\n",
              "      <td>Brown,Maxine A</td>\n",
              "      <td>No</td>\n",
              "      <td>5</td>\n",
              "      <td>58.90</td>\n",
              "    </tr>\n",
              "    <tr>\n",
              "      <th>2</th>\n",
              "      <td>TitleFXSDN</td>\n",
              "      <td>Carter-Henry and Sons</td>\n",
              "      <td>Hospitals/Clinics</td>\n",
              "      <td>359392$</td>\n",
              "      <td>2407926.4$</td>\n",
              "      <td>07/27/2019</td>\n",
              "      <td>Product_1</td>\n",
              "      <td>538.748.2271</td>\n",
              "      <td>500 Million - 1 Billion</td>\n",
              "      <td>Category 4</td>\n",
              "      <td>...</td>\n",
              "      <td>SVP/General Counsel</td>\n",
              "      <td>arielhamilton@carterhenry.com</td>\n",
              "      <td>Health service manager</td>\n",
              "      <td>Marketing Event</td>\n",
              "      <td>Level 1</td>\n",
              "      <td>?</td>\n",
              "      <td>Georgakopoulos,Vasilios T</td>\n",
              "      <td>No</td>\n",
              "      <td>4</td>\n",
              "      <td>68.80</td>\n",
              "    </tr>\n",
              "    <tr>\n",
              "      <th>3</th>\n",
              "      <td>TitlePSK4Y</td>\n",
              "      <td>Garcia Ltd Ltd</td>\n",
              "      <td>Real Estate</td>\n",
              "      <td>76774$</td>\n",
              "      <td>468321.4$</td>\n",
              "      <td>01/30/2021</td>\n",
              "      <td>Product_2</td>\n",
              "      <td>(692)052-1389x75188</td>\n",
              "      <td>500 Million - 1 Billion</td>\n",
              "      <td>Category 3</td>\n",
              "      <td>...</td>\n",
              "      <td>CEO/Co-Founder/Chairman</td>\n",
              "      <td>erinwilson@garcia.com</td>\n",
              "      <td>Therapist, speech and language</td>\n",
              "      <td>Contact Email</td>\n",
              "      <td>Level 2</td>\n",
              "      <td>Did not hear back after Level 1</td>\n",
              "      <td>Brown,Maxine A</td>\n",
              "      <td>We have all the requirements</td>\n",
              "      <td>1</td>\n",
              "      <td>64.50</td>\n",
              "    </tr>\n",
              "    <tr>\n",
              "      <th>4</th>\n",
              "      <td>Title904GV</td>\n",
              "      <td>Lee and Sons PLC</td>\n",
              "      <td>Financial Services</td>\n",
              "      <td>483896$</td>\n",
              "      <td>NaN</td>\n",
              "      <td>05/22/2019</td>\n",
              "      <td>Product_2</td>\n",
              "      <td>001-878-814-6134x015</td>\n",
              "      <td>50 - 100 Million</td>\n",
              "      <td>Category 3</td>\n",
              "      <td>...</td>\n",
              "      <td>Executive Vice President</td>\n",
              "      <td>mr.christopher@lee.com</td>\n",
              "      <td>Media planner</td>\n",
              "      <td>Website</td>\n",
              "      <td>Level 2</td>\n",
              "      <td>Up-to-date</td>\n",
              "      <td>Thomas,Lori E</td>\n",
              "      <td>No</td>\n",
              "      <td>4</td>\n",
              "      <td>62.40</td>\n",
              "    </tr>\n",
              "    <tr>\n",
              "      <th>...</th>\n",
              "      <td>...</td>\n",
              "      <td>...</td>\n",
              "      <td>...</td>\n",
              "      <td>...</td>\n",
              "      <td>...</td>\n",
              "      <td>...</td>\n",
              "      <td>...</td>\n",
              "      <td>...</td>\n",
              "      <td>...</td>\n",
              "      <td>...</td>\n",
              "      <td>...</td>\n",
              "      <td>...</td>\n",
              "      <td>...</td>\n",
              "      <td>...</td>\n",
              "      <td>...</td>\n",
              "      <td>...</td>\n",
              "      <td>...</td>\n",
              "      <td>...</td>\n",
              "      <td>...</td>\n",
              "      <td>...</td>\n",
              "      <td>...</td>\n",
              "    </tr>\n",
              "    <tr>\n",
              "      <th>7002</th>\n",
              "      <td>TitleJ7TDY</td>\n",
              "      <td>Flowers-Adams PLC</td>\n",
              "      <td>Banks</td>\n",
              "      <td>192800$</td>\n",
              "      <td>1195360.0$</td>\n",
              "      <td>12/07/2020</td>\n",
              "      <td>Product_1</td>\n",
              "      <td>1734434912</td>\n",
              "      <td>100 - 500 Million</td>\n",
              "      <td>Category 4</td>\n",
              "      <td>...</td>\n",
              "      <td>CEO/Co-Founder/Chairman</td>\n",
              "      <td>clairewilliams@flowersadams.com</td>\n",
              "      <td>Call centre manager</td>\n",
              "      <td>Contact Email</td>\n",
              "      <td>Level 1</td>\n",
              "      <td>More than a week back</td>\n",
              "      <td>Jones,Eyvette W</td>\n",
              "      <td>We have all the requirements</td>\n",
              "      <td>4</td>\n",
              "      <td>107.34</td>\n",
              "    </tr>\n",
              "    <tr>\n",
              "      <th>7003</th>\n",
              "      <td>TitleO1IIN</td>\n",
              "      <td>Kelly, Smith and Benton and Sons</td>\n",
              "      <td>Hospitals/Clinics</td>\n",
              "      <td>220208$</td>\n",
              "      <td>1453372.8$</td>\n",
              "      <td>03/13/2020</td>\n",
              "      <td>Product_2</td>\n",
              "      <td>(002)106-0243x03346</td>\n",
              "      <td>100 - 500 Million</td>\n",
              "      <td>Category 1</td>\n",
              "      <td>...</td>\n",
              "      <td>CEO</td>\n",
              "      <td>vanessaanderson@kelly.com</td>\n",
              "      <td>Financial risk analyst</td>\n",
              "      <td>Marketing Event</td>\n",
              "      <td>Level 2</td>\n",
              "      <td>?</td>\n",
              "      <td>Brown,Maxine A</td>\n",
              "      <td>We have all the requirements</td>\n",
              "      <td>3</td>\n",
              "      <td>26.35</td>\n",
              "    </tr>\n",
              "    <tr>\n",
              "      <th>7004</th>\n",
              "      <td>TitleF1FWY</td>\n",
              "      <td>Romero-Juarez PLC</td>\n",
              "      <td>Semiconductors</td>\n",
              "      <td>253608$</td>\n",
              "      <td>NaN</td>\n",
              "      <td>03/10/2020</td>\n",
              "      <td>Product_1</td>\n",
              "      <td>777-231-4109x712</td>\n",
              "      <td>100 - 500 Million</td>\n",
              "      <td>Category 2</td>\n",
              "      <td>...</td>\n",
              "      <td>SVP/General Counsel</td>\n",
              "      <td>nicholasduncan@romerojuarez.com</td>\n",
              "      <td>Nature conservation officer</td>\n",
              "      <td>Marketing Event</td>\n",
              "      <td>Level 3</td>\n",
              "      <td>NaN</td>\n",
              "      <td>Logan,Kevin N</td>\n",
              "      <td>NaN</td>\n",
              "      <td>1</td>\n",
              "      <td>70.60</td>\n",
              "    </tr>\n",
              "    <tr>\n",
              "      <th>7005</th>\n",
              "      <td>TitleXVBNJ</td>\n",
              "      <td>Sullivan, Mooney and Elliott LLC</td>\n",
              "      <td>Banks</td>\n",
              "      <td>118615$</td>\n",
              "      <td>794720.5$</td>\n",
              "      <td>12/26/2019</td>\n",
              "      <td>Product_1</td>\n",
              "      <td>001-212-631-5467x377</td>\n",
              "      <td>500 Million - 1 Billion</td>\n",
              "      <td>Category 2</td>\n",
              "      <td>...</td>\n",
              "      <td>Executive Vice President</td>\n",
              "      <td>waynewilliams@sullivan.com</td>\n",
              "      <td>Designer, textile</td>\n",
              "      <td>Website</td>\n",
              "      <td>Level 3</td>\n",
              "      <td>NaN</td>\n",
              "      <td>Cashin,Marc C</td>\n",
              "      <td>We have all the requirements</td>\n",
              "      <td>3</td>\n",
              "      <td>-5.00</td>\n",
              "    </tr>\n",
              "    <tr>\n",
              "      <th>7006</th>\n",
              "      <td>TitleKXU3H</td>\n",
              "      <td>Jones LLC and Sons</td>\n",
              "      <td>Financial Services</td>\n",
              "      <td>258627$</td>\n",
              "      <td>1642281.45$</td>\n",
              "      <td>04/27/2020</td>\n",
              "      <td>Product_2</td>\n",
              "      <td>-8925</td>\n",
              "      <td>500 Million - 1 Billion</td>\n",
              "      <td>Category 2</td>\n",
              "      <td>...</td>\n",
              "      <td>Vice President / GM (04-present) : VP Sales an...</td>\n",
              "      <td>carolstrickland@jones.com</td>\n",
              "      <td>Government social research officer</td>\n",
              "      <td>Contact Email</td>\n",
              "      <td>Level 3</td>\n",
              "      <td>More than a week back</td>\n",
              "      <td>Massiah,Gerard F</td>\n",
              "      <td>We have all the requirements</td>\n",
              "      <td>1</td>\n",
              "      <td>68.70</td>\n",
              "    </tr>\n",
              "  </tbody>\n",
              "</table>\n",
              "<p>7007 rows × 23 columns</p>\n",
              "</div>"
            ],
            "text/plain": [
              "      Deal_title                         Lead_name               Industry  \\\n",
              "0     TitleM5DZY     Davis, Perkins and Bishop Inc            Restaurants   \n",
              "1     TitleKIW18                    Bender PLC LLC  Construction Services   \n",
              "2     TitleFXSDN             Carter-Henry and Sons      Hospitals/Clinics   \n",
              "3     TitlePSK4Y                    Garcia Ltd Ltd            Real Estate   \n",
              "4     Title904GV                  Lee and Sons PLC     Financial Services   \n",
              "...          ...                               ...                    ...   \n",
              "7002  TitleJ7TDY                 Flowers-Adams PLC                  Banks   \n",
              "7003  TitleO1IIN  Kelly, Smith and Benton and Sons      Hospitals/Clinics   \n",
              "7004  TitleF1FWY                 Romero-Juarez PLC         Semiconductors   \n",
              "7005  TitleXVBNJ  Sullivan, Mooney and Elliott LLC                  Banks   \n",
              "7006  TitleKXU3H                Jones LLC and Sons     Financial Services   \n",
              "\n",
              "     Deal_value Weighted_amount Date_of_creation      Pitch  \\\n",
              "0       320506$      2067263.7$       03/29/2020  Product_2   \n",
              "1        39488$       240876.8$       07/10/2019  Product_2   \n",
              "2       359392$      2407926.4$       07/27/2019  Product_1   \n",
              "3        76774$       468321.4$       01/30/2021  Product_2   \n",
              "4       483896$             NaN       05/22/2019  Product_2   \n",
              "...         ...             ...              ...        ...   \n",
              "7002    192800$      1195360.0$       12/07/2020  Product_1   \n",
              "7003    220208$      1453372.8$       03/13/2020  Product_2   \n",
              "7004    253608$             NaN       03/10/2020  Product_1   \n",
              "7005    118615$       794720.5$       12/26/2019  Product_1   \n",
              "7006    258627$     1642281.45$       04/27/2020  Product_2   \n",
              "\n",
              "                Contact_no             Lead_revenue Fund_category  ...  \\\n",
              "0             607.447.7883         50 - 100 Million    Category 2  ...   \n",
              "1             892-938-9493  500 Million - 1 Billion    Category 4  ...   \n",
              "2             538.748.2271  500 Million - 1 Billion    Category 4  ...   \n",
              "3      (692)052-1389x75188  500 Million - 1 Billion    Category 3  ...   \n",
              "4     001-878-814-6134x015         50 - 100 Million    Category 3  ...   \n",
              "...                    ...                      ...           ...  ...   \n",
              "7002            1734434912        100 - 500 Million    Category 4  ...   \n",
              "7003   (002)106-0243x03346        100 - 500 Million    Category 1  ...   \n",
              "7004      777-231-4109x712        100 - 500 Million    Category 2  ...   \n",
              "7005  001-212-631-5467x377  500 Million - 1 Billion    Category 2  ...   \n",
              "7006                 -8925  500 Million - 1 Billion    Category 2  ...   \n",
              "\n",
              "                                            Designation  \\\n",
              "0                              Executive Vice President   \n",
              "1                                Chairman/CEO/President   \n",
              "2                                  SVP/General Counsel    \n",
              "3                               CEO/Co-Founder/Chairman   \n",
              "4                              Executive Vice President   \n",
              "...                                                 ...   \n",
              "7002                            CEO/Co-Founder/Chairman   \n",
              "7003                                                CEO   \n",
              "7004                               SVP/General Counsel    \n",
              "7005                           Executive Vice President   \n",
              "7006  Vice President / GM (04-present) : VP Sales an...   \n",
              "\n",
              "                       Lead_POC_email               Hiring_candidate_role  \\\n",
              "0            charlenewerner@davis.com                Community pharmacist   \n",
              "1               terrylogan@bender.com              Recruitment consultant   \n",
              "2       arielhamilton@carterhenry.com              Health service manager   \n",
              "3               erinwilson@garcia.com      Therapist, speech and language   \n",
              "4              mr.christopher@lee.com                       Media planner   \n",
              "...                               ...                                 ...   \n",
              "7002  clairewilliams@flowersadams.com                 Call centre manager   \n",
              "7003        vanessaanderson@kelly.com              Financial risk analyst   \n",
              "7004  nicholasduncan@romerojuarez.com         Nature conservation officer   \n",
              "7005       waynewilliams@sullivan.com                   Designer, textile   \n",
              "7006        carolstrickland@jones.com  Government social research officer   \n",
              "\n",
              "          Lead_source Level_of_meeting                 Last_lead_update  \\\n",
              "0             Website          Level 3                         No track   \n",
              "1              Others          Level 1  Did not hear back after Level 1   \n",
              "2     Marketing Event          Level 1                                ?   \n",
              "3       Contact Email          Level 2  Did not hear back after Level 1   \n",
              "4             Website          Level 2                       Up-to-date   \n",
              "...               ...              ...                              ...   \n",
              "7002    Contact Email          Level 1            More than a week back   \n",
              "7003  Marketing Event          Level 2                                ?   \n",
              "7004  Marketing Event          Level 3                              NaN   \n",
              "7005          Website          Level 3                              NaN   \n",
              "7006    Contact Email          Level 3            More than a week back   \n",
              "\n",
              "                   Internal_POC                      Resource Internal_rating  \\\n",
              "0              Davis,Sharrice A                           NaN               3   \n",
              "1                Brown,Maxine A                            No               5   \n",
              "2     Georgakopoulos,Vasilios T                            No               4   \n",
              "3                Brown,Maxine A  We have all the requirements               1   \n",
              "4                 Thomas,Lori E                            No               4   \n",
              "...                         ...                           ...             ...   \n",
              "7002            Jones,Eyvette W  We have all the requirements               4   \n",
              "7003             Brown,Maxine A  We have all the requirements               3   \n",
              "7004              Logan,Kevin N                           NaN               1   \n",
              "7005              Cashin,Marc C  We have all the requirements               3   \n",
              "7006           Massiah,Gerard F  We have all the requirements               1   \n",
              "\n",
              "     Success_probability  \n",
              "0                  73.60  \n",
              "1                  58.90  \n",
              "2                  68.80  \n",
              "3                  64.50  \n",
              "4                  62.40  \n",
              "...                  ...  \n",
              "7002              107.34  \n",
              "7003               26.35  \n",
              "7004               70.60  \n",
              "7005               -5.00  \n",
              "7006               68.70  \n",
              "\n",
              "[7007 rows x 23 columns]"
            ]
          },
          "execution_count": 26,
          "metadata": {},
          "output_type": "execute_result"
        }
      ],
      "source": [
        "wasteWhiz"
      ]
    },
    {
      "cell_type": "code",
      "execution_count": null,
      "metadata": {
        "id": "c-Bc6Z0qJnAX"
      },
      "outputs": [],
      "source": [
        "del df['index']"
      ]
    },
    {
      "cell_type": "code",
      "execution_count": null,
      "metadata": {
        "colab": {
          "base_uri": "https://localhost:8080/",
          "height": 226
        },
        "id": "bsPjUNJFJqB6",
        "outputId": "e1058d70-360d-4110-c71e-69ee30cdbccf"
      },
      "outputs": [
        {
          "data": {
            "text/html": [
              "<div>\n",
              "<style scoped>\n",
              "    .dataframe tbody tr th:only-of-type {\n",
              "        vertical-align: middle;\n",
              "    }\n",
              "\n",
              "    .dataframe tbody tr th {\n",
              "        vertical-align: top;\n",
              "    }\n",
              "\n",
              "    .dataframe thead th {\n",
              "        text-align: right;\n",
              "    }\n",
              "</style>\n",
              "<table border=\"1\" class=\"dataframe\">\n",
              "  <thead>\n",
              "    <tr style=\"text-align: right;\">\n",
              "      <th></th>\n",
              "      <th>Industry</th>\n",
              "      <th>Deal_value</th>\n",
              "      <th>Weighted_amount</th>\n",
              "      <th>Pitch</th>\n",
              "      <th>Lead_revenue</th>\n",
              "      <th>Fund_category</th>\n",
              "      <th>Hiring_candidate_role</th>\n",
              "      <th>Level_of_meeting</th>\n",
              "      <th>Last_lead_update</th>\n",
              "      <th>Resource</th>\n",
              "      <th>Internal_rating</th>\n",
              "      <th>Success_probability</th>\n",
              "    </tr>\n",
              "  </thead>\n",
              "  <tbody>\n",
              "    <tr>\n",
              "      <th>0</th>\n",
              "      <td>120</td>\n",
              "      <td>320506</td>\n",
              "      <td>2067263.7</td>\n",
              "      <td>1</td>\n",
              "      <td>1</td>\n",
              "      <td>1</td>\n",
              "      <td>126</td>\n",
              "      <td>2</td>\n",
              "      <td>8</td>\n",
              "      <td>0</td>\n",
              "      <td>3</td>\n",
              "      <td>73.6</td>\n",
              "    </tr>\n",
              "    <tr>\n",
              "      <th>1</th>\n",
              "      <td>32</td>\n",
              "      <td>39488</td>\n",
              "      <td>240876.8</td>\n",
              "      <td>1</td>\n",
              "      <td>2</td>\n",
              "      <td>3</td>\n",
              "      <td>501</td>\n",
              "      <td>0</td>\n",
              "      <td>4</td>\n",
              "      <td>3</td>\n",
              "      <td>5</td>\n",
              "      <td>58.9</td>\n",
              "    </tr>\n",
              "    <tr>\n",
              "      <th>2</th>\n",
              "      <td>57</td>\n",
              "      <td>359392</td>\n",
              "      <td>2407926.4</td>\n",
              "      <td>0</td>\n",
              "      <td>2</td>\n",
              "      <td>3</td>\n",
              "      <td>286</td>\n",
              "      <td>0</td>\n",
              "      <td>3</td>\n",
              "      <td>3</td>\n",
              "      <td>4</td>\n",
              "      <td>68.8</td>\n",
              "    </tr>\n",
              "    <tr>\n",
              "      <th>3</th>\n",
              "      <td>115</td>\n",
              "      <td>76774</td>\n",
              "      <td>468321.4</td>\n",
              "      <td>1</td>\n",
              "      <td>2</td>\n",
              "      <td>2</td>\n",
              "      <td>611</td>\n",
              "      <td>1</td>\n",
              "      <td>4</td>\n",
              "      <td>5</td>\n",
              "      <td>1</td>\n",
              "      <td>64.5</td>\n",
              "    </tr>\n",
              "    <tr>\n",
              "      <th>4</th>\n",
              "      <td>18</td>\n",
              "      <td>418674</td>\n",
              "      <td>2637646.2</td>\n",
              "      <td>0</td>\n",
              "      <td>1</td>\n",
              "      <td>1</td>\n",
              "      <td>381</td>\n",
              "      <td>2</td>\n",
              "      <td>0</td>\n",
              "      <td>2</td>\n",
              "      <td>3</td>\n",
              "      <td>66.3</td>\n",
              "    </tr>\n",
              "  </tbody>\n",
              "</table>\n",
              "</div>"
            ],
            "text/plain": [
              "   Industry  Deal_value  Weighted_amount  Pitch  Lead_revenue  Fund_category  \\\n",
              "0       120      320506        2067263.7      1             1              1   \n",
              "1        32       39488         240876.8      1             2              3   \n",
              "2        57      359392        2407926.4      0             2              3   \n",
              "3       115       76774         468321.4      1             2              2   \n",
              "4        18      418674        2637646.2      0             1              1   \n",
              "\n",
              "   Hiring_candidate_role  Level_of_meeting  Last_lead_update  Resource  \\\n",
              "0                    126                 2                 8         0   \n",
              "1                    501                 0                 4         3   \n",
              "2                    286                 0                 3         3   \n",
              "3                    611                 1                 4         5   \n",
              "4                    381                 2                 0         2   \n",
              "\n",
              "   Internal_rating  Success_probability  \n",
              "0                3                 73.6  \n",
              "1                5                 58.9  \n",
              "2                4                 68.8  \n",
              "3                1                 64.5  \n",
              "4                3                 66.3  "
            ]
          },
          "execution_count": 31,
          "metadata": {},
          "output_type": "execute_result"
        }
      ],
      "source": [
        "df.head()"
      ]
    },
    {
      "cell_type": "code",
      "execution_count": null,
      "metadata": {
        "colab": {
          "base_uri": "https://localhost:8080/"
        },
        "id": "M38Nk2pPJ-xs",
        "outputId": "7deb5fed-2023-43f2-865d-756c41c8d67c"
      },
      "outputs": [
        {
          "data": {
            "text/plain": [
              "Index(['Industry', 'Deal_value', 'Weighted_amount', 'Pitch', 'Lead_revenue',\n",
              "       'Fund_category', 'Hiring_candidate_role', 'Level_of_meeting',\n",
              "       'Last_lead_update', 'Resource', 'Internal_rating',\n",
              "       'Success_probability'],\n",
              "      dtype='object')"
            ]
          },
          "execution_count": 32,
          "metadata": {},
          "output_type": "execute_result"
        }
      ],
      "source": [
        "#dividing the dataset into independent and dependent variables\n",
        "df.columns"
      ]
    },
    {
      "cell_type": "code",
      "execution_count": null,
      "metadata": {
        "id": "4v7r1_qOKFtw"
      },
      "outputs": [],
      "source": [
        "X=df.copy()\n",
        "y=df.copy()"
      ]
    },
    {
      "cell_type": "code",
      "execution_count": null,
      "metadata": {
        "id": "V1YSLII7KSPb"
      },
      "outputs": [],
      "source": [
        "del X['Success_probability']"
      ]
    },
    {
      "cell_type": "code",
      "execution_count": null,
      "metadata": {
        "id": "Y2EdTZfLKmgY"
      },
      "outputs": [],
      "source": [
        "y=y.drop(['Industry', 'Deal_value', 'Weighted_amount', 'Pitch', 'Lead_revenue',\n",
        "       'Fund_category', 'Hiring_candidate_role', 'Level_of_meeting',\n",
        "       'Last_lead_update', 'Resource', 'Internal_rating'],axis=1)"
      ]
    },
    {
      "cell_type": "code",
      "execution_count": null,
      "metadata": {
        "colab": {
          "base_uri": "https://localhost:8080/",
          "height": 226
        },
        "id": "J5AHeUdGLMai",
        "outputId": "500e4ecf-6ab5-4ca3-f9db-c4f8bf5c2ab4"
      },
      "outputs": [
        {
          "data": {
            "text/html": [
              "<div>\n",
              "<style scoped>\n",
              "    .dataframe tbody tr th:only-of-type {\n",
              "        vertical-align: middle;\n",
              "    }\n",
              "\n",
              "    .dataframe tbody tr th {\n",
              "        vertical-align: top;\n",
              "    }\n",
              "\n",
              "    .dataframe thead th {\n",
              "        text-align: right;\n",
              "    }\n",
              "</style>\n",
              "<table border=\"1\" class=\"dataframe\">\n",
              "  <thead>\n",
              "    <tr style=\"text-align: right;\">\n",
              "      <th></th>\n",
              "      <th>Industry</th>\n",
              "      <th>Deal_value</th>\n",
              "      <th>Weighted_amount</th>\n",
              "      <th>Pitch</th>\n",
              "      <th>Lead_revenue</th>\n",
              "      <th>Fund_category</th>\n",
              "      <th>Hiring_candidate_role</th>\n",
              "      <th>Level_of_meeting</th>\n",
              "      <th>Last_lead_update</th>\n",
              "      <th>Resource</th>\n",
              "      <th>Internal_rating</th>\n",
              "    </tr>\n",
              "  </thead>\n",
              "  <tbody>\n",
              "    <tr>\n",
              "      <th>0</th>\n",
              "      <td>120</td>\n",
              "      <td>320506</td>\n",
              "      <td>2067263.7</td>\n",
              "      <td>1</td>\n",
              "      <td>1</td>\n",
              "      <td>1</td>\n",
              "      <td>126</td>\n",
              "      <td>2</td>\n",
              "      <td>8</td>\n",
              "      <td>0</td>\n",
              "      <td>3</td>\n",
              "    </tr>\n",
              "    <tr>\n",
              "      <th>1</th>\n",
              "      <td>32</td>\n",
              "      <td>39488</td>\n",
              "      <td>240876.8</td>\n",
              "      <td>1</td>\n",
              "      <td>2</td>\n",
              "      <td>3</td>\n",
              "      <td>501</td>\n",
              "      <td>0</td>\n",
              "      <td>4</td>\n",
              "      <td>3</td>\n",
              "      <td>5</td>\n",
              "    </tr>\n",
              "    <tr>\n",
              "      <th>2</th>\n",
              "      <td>57</td>\n",
              "      <td>359392</td>\n",
              "      <td>2407926.4</td>\n",
              "      <td>0</td>\n",
              "      <td>2</td>\n",
              "      <td>3</td>\n",
              "      <td>286</td>\n",
              "      <td>0</td>\n",
              "      <td>3</td>\n",
              "      <td>3</td>\n",
              "      <td>4</td>\n",
              "    </tr>\n",
              "    <tr>\n",
              "      <th>3</th>\n",
              "      <td>115</td>\n",
              "      <td>76774</td>\n",
              "      <td>468321.4</td>\n",
              "      <td>1</td>\n",
              "      <td>2</td>\n",
              "      <td>2</td>\n",
              "      <td>611</td>\n",
              "      <td>1</td>\n",
              "      <td>4</td>\n",
              "      <td>5</td>\n",
              "      <td>1</td>\n",
              "    </tr>\n",
              "    <tr>\n",
              "      <th>4</th>\n",
              "      <td>18</td>\n",
              "      <td>418674</td>\n",
              "      <td>2637646.2</td>\n",
              "      <td>0</td>\n",
              "      <td>1</td>\n",
              "      <td>1</td>\n",
              "      <td>381</td>\n",
              "      <td>2</td>\n",
              "      <td>0</td>\n",
              "      <td>2</td>\n",
              "      <td>3</td>\n",
              "    </tr>\n",
              "  </tbody>\n",
              "</table>\n",
              "</div>"
            ],
            "text/plain": [
              "   Industry  Deal_value  Weighted_amount  Pitch  Lead_revenue  Fund_category  \\\n",
              "0       120      320506        2067263.7      1             1              1   \n",
              "1        32       39488         240876.8      1             2              3   \n",
              "2        57      359392        2407926.4      0             2              3   \n",
              "3       115       76774         468321.4      1             2              2   \n",
              "4        18      418674        2637646.2      0             1              1   \n",
              "\n",
              "   Hiring_candidate_role  Level_of_meeting  Last_lead_update  Resource  \\\n",
              "0                    126                 2                 8         0   \n",
              "1                    501                 0                 4         3   \n",
              "2                    286                 0                 3         3   \n",
              "3                    611                 1                 4         5   \n",
              "4                    381                 2                 0         2   \n",
              "\n",
              "   Internal_rating  \n",
              "0                3  \n",
              "1                5  \n",
              "2                4  \n",
              "3                1  \n",
              "4                3  "
            ]
          },
          "execution_count": 36,
          "metadata": {},
          "output_type": "execute_result"
        }
      ],
      "source": [
        "X.head()"
      ]
    },
    {
      "cell_type": "code",
      "execution_count": null,
      "metadata": {
        "colab": {
          "base_uri": "https://localhost:8080/",
          "height": 206
        },
        "id": "DFS1ETOrLN-0",
        "outputId": "23b9ebc3-ef9e-42a0-e05d-beb842f92398"
      },
      "outputs": [
        {
          "data": {
            "text/html": [
              "<div>\n",
              "<style scoped>\n",
              "    .dataframe tbody tr th:only-of-type {\n",
              "        vertical-align: middle;\n",
              "    }\n",
              "\n",
              "    .dataframe tbody tr th {\n",
              "        vertical-align: top;\n",
              "    }\n",
              "\n",
              "    .dataframe thead th {\n",
              "        text-align: right;\n",
              "    }\n",
              "</style>\n",
              "<table border=\"1\" class=\"dataframe\">\n",
              "  <thead>\n",
              "    <tr style=\"text-align: right;\">\n",
              "      <th></th>\n",
              "      <th>Success_probability</th>\n",
              "    </tr>\n",
              "  </thead>\n",
              "  <tbody>\n",
              "    <tr>\n",
              "      <th>0</th>\n",
              "      <td>73.6</td>\n",
              "    </tr>\n",
              "    <tr>\n",
              "      <th>1</th>\n",
              "      <td>58.9</td>\n",
              "    </tr>\n",
              "    <tr>\n",
              "      <th>2</th>\n",
              "      <td>68.8</td>\n",
              "    </tr>\n",
              "    <tr>\n",
              "      <th>3</th>\n",
              "      <td>64.5</td>\n",
              "    </tr>\n",
              "    <tr>\n",
              "      <th>4</th>\n",
              "      <td>66.3</td>\n",
              "    </tr>\n",
              "  </tbody>\n",
              "</table>\n",
              "</div>"
            ],
            "text/plain": [
              "   Success_probability\n",
              "0                 73.6\n",
              "1                 58.9\n",
              "2                 68.8\n",
              "3                 64.5\n",
              "4                 66.3"
            ]
          },
          "execution_count": 37,
          "metadata": {},
          "output_type": "execute_result"
        }
      ],
      "source": [
        "y.head()"
      ]
    },
    {
      "cell_type": "code",
      "execution_count": null,
      "metadata": {
        "id": "LIwMUp0sLhnS"
      },
      "outputs": [],
      "source": [
        "#train and test split\n",
        "from sklearn.model_selection import train_test_split\n",
        "x_train,x_test,y_train,y_test=train_test_split(X,y,test_size=0.2,random_state=40)"
      ]
    },
    {
      "cell_type": "code",
      "execution_count": null,
      "metadata": {
        "colab": {
          "base_uri": "https://localhost:8080/"
        },
        "id": "bIlg81ZoLwjm",
        "outputId": "b46a7c62-a82a-4bdf-ebdc-366dd22ca57b"
      },
      "outputs": [
        {
          "data": {
            "text/plain": [
              "(5148, 11)"
            ]
          },
          "execution_count": 39,
          "metadata": {},
          "output_type": "execute_result"
        }
      ],
      "source": [
        "x_train.shape"
      ]
    },
    {
      "cell_type": "code",
      "execution_count": null,
      "metadata": {
        "colab": {
          "base_uri": "https://localhost:8080/"
        },
        "id": "Wy9yOnkFLzBb",
        "outputId": "be9f2da4-044b-40f8-a8c4-3d2861abd07c"
      },
      "outputs": [
        {
          "data": {
            "text/plain": [
              "(1287, 11)"
            ]
          },
          "execution_count": 40,
          "metadata": {},
          "output_type": "execute_result"
        }
      ],
      "source": [
        "x_test.shape"
      ]
    },
    {
      "cell_type": "code",
      "execution_count": null,
      "metadata": {
        "colab": {
          "base_uri": "https://localhost:8080/"
        },
        "id": "ktEPVzlpL2FL",
        "outputId": "46c495a6-2bb8-4082-8130-0a6314167bd2"
      },
      "outputs": [
        {
          "data": {
            "text/plain": [
              "(5148, 1)"
            ]
          },
          "execution_count": 41,
          "metadata": {},
          "output_type": "execute_result"
        }
      ],
      "source": [
        "y_train.shape"
      ]
    },
    {
      "cell_type": "code",
      "execution_count": null,
      "metadata": {
        "colab": {
          "base_uri": "https://localhost:8080/"
        },
        "id": "kAU2RHsnL3_e",
        "outputId": "404eaf3c-9d1c-4b67-9294-17924a3d425a"
      },
      "outputs": [
        {
          "data": {
            "text/plain": [
              "(1287, 1)"
            ]
          },
          "execution_count": 42,
          "metadata": {},
          "output_type": "execute_result"
        }
      ],
      "source": [
        "y_test.shape"
      ]
    },
    {
      "cell_type": "code",
      "execution_count": null,
      "metadata": {
        "id": "X0JeO82DL6NO"
      },
      "outputs": [],
      "source": [
        "#model-1\n",
        "from sklearn.linear_model import LinearRegression\n",
        "model_lr=LinearRegression()\n",
        "model_lr.fit(x_train,y_train)\n",
        "y_pred=model_lr.predict(x_test)"
      ]
    },
    {
      "cell_type": "code",
      "execution_count": null,
      "metadata": {
        "id": "9-GaIYXUMlWf"
      },
      "outputs": [],
      "source": [
        "y_test['Predicted']=y_pred"
      ]
    },
    {
      "cell_type": "code",
      "execution_count": null,
      "metadata": {
        "id": "BH52Pvx6N7qr"
      },
      "outputs": [],
      "source": [
        "y_test['Difference']=y_test['Success_probability']-y_test['Predicted']"
      ]
    },
    {
      "cell_type": "code",
      "execution_count": null,
      "metadata": {
        "colab": {
          "base_uri": "https://localhost:8080/"
        },
        "id": "BtzETZ2wOKBd",
        "outputId": "e711e853-b7ff-4177-c86a-d9d1d5a20e63"
      },
      "outputs": [
        {
          "data": {
            "text/plain": [
              "97"
            ]
          },
          "execution_count": 46,
          "metadata": {},
          "output_type": "execute_result"
        }
      ],
      "source": [
        "y_test['Difference'].loc[y_test['Difference']>10].count()"
      ]
    },
    {
      "cell_type": "code",
      "execution_count": null,
      "metadata": {
        "colab": {
          "base_uri": "https://localhost:8080/"
        },
        "id": "6_nPFjwWOgI7",
        "outputId": "cd1ba1e1-af8a-4eee-fb3f-4ea6ec3203ca"
      },
      "outputs": [
        {
          "data": {
            "text/plain": [
              "598"
            ]
          },
          "execution_count": 47,
          "metadata": {},
          "output_type": "execute_result"
        }
      ],
      "source": [
        "y_test['Difference'].loc[(y_test['Difference']<=10) & (y_test['Difference']>=0)].count()\n"
      ]
    },
    {
      "cell_type": "code",
      "execution_count": null,
      "metadata": {
        "colab": {
          "base_uri": "https://localhost:8080/"
        },
        "id": "Hf0A5bG7PAsE",
        "outputId": "a09dc47c-2ed9-45f1-ab31-9b6aae7f2230"
      },
      "outputs": [
        {
          "data": {
            "text/plain": [
              "592"
            ]
          },
          "execution_count": 48,
          "metadata": {},
          "output_type": "execute_result"
        }
      ],
      "source": [
        "y_test['Difference'].loc[y_test['Difference']<0].count()"
      ]
    },
    {
      "cell_type": "markdown",
      "metadata": {
        "id": "iMU09G79Pa0x"
      },
      "source": [
        "----------------------------------------------------------------------------------------------------------------------------------------------------------------"
      ]
    },
    {
      "cell_type": "code",
      "execution_count": null,
      "metadata": {
        "id": "XFyPXXVNPppz"
      },
      "outputs": [],
      "source": [
        "#train and test split\n",
        "x_train,x_test,y_train,y_test=train_test_split(X,y,test_size=0.2,random_state=40)"
      ]
    },
    {
      "cell_type": "code",
      "execution_count": null,
      "metadata": {
        "id": "2of9iKxUPfRK"
      },
      "outputs": [],
      "source": [
        "#model-2\n",
        "from sklearn.tree import DecisionTreeRegressor\n",
        "model_dtr=DecisionTreeRegressor()\n",
        "model_dtr.fit(x_train,y_train)\n",
        "y_pred=model_dtr.predict(x_test)"
      ]
    },
    {
      "cell_type": "code",
      "execution_count": null,
      "metadata": {
        "id": "I0hZuLrzQXuD"
      },
      "outputs": [],
      "source": [
        "y_test['Predicted']=y_pred\n",
        "y_test['Difference']=y_test['Success_probability']-y_test['Predicted']"
      ]
    },
    {
      "cell_type": "code",
      "execution_count": null,
      "metadata": {
        "colab": {
          "base_uri": "https://localhost:8080/"
        },
        "id": "O0Vv9bytQl1l",
        "outputId": "66c50e08-f397-4a8e-c2f5-9f4497adc900"
      },
      "outputs": [
        {
          "data": {
            "text/plain": [
              "233"
            ]
          },
          "execution_count": 52,
          "metadata": {},
          "output_type": "execute_result"
        }
      ],
      "source": [
        "y_test['Difference'].loc[y_test['Difference']>10].count()"
      ]
    },
    {
      "cell_type": "code",
      "execution_count": null,
      "metadata": {
        "colab": {
          "base_uri": "https://localhost:8080/"
        },
        "id": "M15fHVghQsOa",
        "outputId": "29785e2a-9281-457e-b174-401f5670e94c"
      },
      "outputs": [
        {
          "data": {
            "text/plain": [
              "458"
            ]
          },
          "execution_count": 53,
          "metadata": {},
          "output_type": "execute_result"
        }
      ],
      "source": [
        "y_test['Difference'].loc[(y_test['Difference']<=10) & (y_test['Difference']>=0)].count()"
      ]
    },
    {
      "cell_type": "code",
      "execution_count": null,
      "metadata": {
        "colab": {
          "base_uri": "https://localhost:8080/"
        },
        "id": "-LQWWgFwQuyI",
        "outputId": "0dc68450-706f-4f7f-af22-18550ac4369a"
      },
      "outputs": [
        {
          "data": {
            "text/plain": [
              "596"
            ]
          },
          "execution_count": 54,
          "metadata": {},
          "output_type": "execute_result"
        }
      ],
      "source": [
        "y_test['Difference'].loc[y_test['Difference']<0].count()"
      ]
    },
    {
      "cell_type": "markdown",
      "metadata": {
        "id": "8M-nHRdNQ2wL"
      },
      "source": [
        "----------------------------------------------------------------------------------------------------------------------------------------------------------------"
      ]
    },
    {
      "cell_type": "code",
      "execution_count": null,
      "metadata": {
        "colab": {
          "base_uri": "https://localhost:8080/"
        },
        "id": "zv1BnEESQ1yL",
        "outputId": "8f926c0b-1e4d-4024-accb-bfa866a51b9c"
      },
      "outputs": [
        {
          "name": "stdout",
          "output_type": "stream",
          "text": [
            "263\n",
            "420\n",
            "604\n"
          ]
        }
      ],
      "source": [
        "#model-3\n",
        "x_train,x_test,y_train,y_test=train_test_split(X,y,test_size=0.2,random_state=40)\n",
        "from sklearn.neighbors import KNeighborsRegressor\n",
        "model_knr=KNeighborsRegressor()\n",
        "model_knr.fit(x_train,y_train)\n",
        "y_pred=model_knr.predict(x_test)\n",
        "y_test['Predicted']=y_pred\n",
        "y_test['Difference']=y_test['Success_probability']-y_test['Predicted']\n",
        "print(y_test['Difference'].loc[y_test['Difference']>10].count())\n",
        "print(y_test['Difference'].loc[(y_test['Difference']<=10) & (y_test['Difference']>=0)].count())\n",
        "print(y_test['Difference'].loc[y_test['Difference']<0].count())"
      ]
    },
    {
      "cell_type": "markdown",
      "metadata": {
        "id": "NmMoiZCDRoOH"
      },
      "source": [
        "----------------------------------------------------------------------------------------------------------------------------------------------------------------"
      ]
    },
    {
      "cell_type": "code",
      "execution_count": null,
      "metadata": {
        "colab": {
          "base_uri": "https://localhost:8080/"
        },
        "id": "rwSCg279RmlN",
        "outputId": "ae6023a3-7dfd-462e-fac0-8cd9039dd42f"
      },
      "outputs": [
        {
          "name": "stdout",
          "output_type": "stream",
          "text": [
            "101\n",
            "626\n",
            "560\n",
            "0\n"
          ]
        }
      ],
      "source": [
        "#model-4\n",
        "x_train,x_test,y_train,y_test=train_test_split(X,y,test_size=0.2,random_state=40)\n",
        "from sklearn.linear_model import Lasso\n",
        "model_l=Lasso()\n",
        "model_l.fit(x_train,y_train)\n",
        "y_pred=model_l.predict(x_test)\n",
        "y_test['Predicted']=y_pred\n",
        "y_test['Difference']=y_test['Success_probability']-y_test['Predicted']\n",
        "print(y_test['Difference'].loc[y_test['Difference']>10].count())\n",
        "print(y_test['Difference'].loc[(y_test['Difference']<=10) & (y_test['Difference']>=0)].count())\n",
        "print(y_test['Difference'].loc[y_test['Difference']<0].count())\n",
        "print(y_test['Difference'].loc[y_test['Difference']>=50].count())"
      ]
    },
    {
      "cell_type": "markdown",
      "metadata": {
        "id": "Bi28ZLC9SA2F"
      },
      "source": [
        "----------------------------------------------------------------------------------------------------------------------------------------------------------------"
      ]
    },
    {
      "cell_type": "code",
      "execution_count": null,
      "metadata": {
        "colab": {
          "base_uri": "https://localhost:8080/"
        },
        "id": "tlIOGk02SAKL",
        "outputId": "b8f05d9b-bb93-4a88-8bb6-f0b2b180b97b"
      },
      "outputs": [
        {
          "name": "stderr",
          "output_type": "stream",
          "text": [
            "c:\\Users\\hp\\AppData\\Local\\Programs\\Python\\Python310\\lib\\site-packages\\sklearn\\utils\\validation.py:1141: DataConversionWarning: A column-vector y was passed when a 1d array was expected. Please change the shape of y to (n_samples, ), for example using ravel().\n",
            "  y = column_or_1d(y, warn=True)\n"
          ]
        },
        {
          "name": "stdout",
          "output_type": "stream",
          "text": [
            "114\n",
            "549\n",
            "624\n"
          ]
        }
      ],
      "source": [
        "#model-5\n",
        "x_train,x_test,y_train,y_test=train_test_split(X,y,test_size=0.2,random_state=40)\n",
        "from sklearn.svm import SVR\n",
        "model_svr=SVR()\n",
        "model_svr.fit(x_train,y_train)\n",
        "y_pred=model_svr.predict(x_test)\n",
        "y_test['Predicted']=y_pred\n",
        "y_test['Difference']=y_test['Success_probability']-y_test['Predicted']\n",
        "print(y_test['Difference'].loc[y_test['Difference']>10].count())\n",
        "print(y_test['Difference'].loc[(y_test['Difference']<=10) & (y_test['Difference']>=0)].count())\n",
        "print(y_test['Difference'].loc[y_test['Difference']<0].count())"
      ]
    },
    {
      "cell_type": "markdown",
      "metadata": {
        "id": "nFvw9EVkSU1-"
      },
      "source": [
        "----------------------------------------------------------------------------------------------------------------------------------------------------------------"
      ]
    },
    {
      "cell_type": "code",
      "execution_count": null,
      "metadata": {
        "colab": {
          "base_uri": "https://localhost:8080/"
        },
        "id": "RY8fK-D0SRR7",
        "outputId": "e7d51aea-6569-49fe-f042-e97dab5f25f3"
      },
      "outputs": [
        {
          "name": "stderr",
          "output_type": "stream",
          "text": [
            "C:\\Users\\hp\\AppData\\Local\\Temp\\ipykernel_5196\\828339281.py:5: DataConversionWarning: A column-vector y was passed when a 1d array was expected. Please change the shape of y to (n_samples,), for example using ravel().\n",
            "  model_rfr.fit(x_train,y_train)\n"
          ]
        },
        {
          "name": "stdout",
          "output_type": "stream",
          "text": [
            "158\n",
            "537\n",
            "592\n"
          ]
        }
      ],
      "source": [
        "#model-6\n",
        "x_train,x_test,y_train,y_test=train_test_split(X,y,test_size=0.2,random_state=40)\n",
        "from sklearn.ensemble import RandomForestRegressor\n",
        "model_rfr=RandomForestRegressor()\n",
        "model_rfr.fit(x_train,y_train)\n",
        "y_pred=model_rfr.predict(x_test)\n",
        "y_test['Predicted']=y_pred\n",
        "y_test['Difference']=y_test['Success_probability']-y_test['Predicted']\n",
        "print(y_test['Difference'].loc[y_test['Difference']>10].count())\n",
        "print(y_test['Difference'].loc[(y_test['Difference']<=10) & (y_test['Difference']>=0)].count())\n",
        "print(y_test['Difference'].loc[y_test['Difference']<0].count())"
      ]
    },
    {
      "cell_type": "code",
      "execution_count": null,
      "metadata": {
        "id": "7tk8f2z1UaH2"
      },
      "outputs": [],
      "source": []
    },
    {
      "cell_type": "markdown",
      "metadata": {
        "id": "MbTFEJHJUawr"
      },
      "source": [
        "--------------------------------------------------------------------------------------------------------------------------------------------------------------------------------------------------------------------------------------------------------------------------------------------------------------------------------################################################################################################################################################################\n",
        "--------------------------------------------------------------------------------------------------------------------------------------------------------------------------------------------------------------------------------------------------------------------------------------------------------------------------------"
      ]
    },
    {
      "cell_type": "code",
      "execution_count": null,
      "metadata": {
        "id": "VKAqfDS0UlkQ"
      },
      "outputs": [],
      "source": [
        "#dropping the null values\n",
        "df2=wasteWhiz.copy()"
      ]
    },
    {
      "cell_type": "code",
      "execution_count": null,
      "metadata": {
        "colab": {
          "base_uri": "https://localhost:8080/"
        },
        "id": "oJ9Dn52jU50A",
        "outputId": "448a4f3c-d60c-412e-e157-b708008c6de1"
      },
      "outputs": [
        {
          "data": {
            "text/plain": [
              "Index(['Deal_title', 'Lead_name', 'Industry', 'Deal_value', 'Weighted_amount',\n",
              "       'Date_of_creation', 'Pitch', 'Contact_no', 'Lead_revenue',\n",
              "       'Fund_category', 'Geography', 'Location', 'POC_name', 'Designation',\n",
              "       'Lead_POC_email', 'Hiring_candidate_role', 'Lead_source',\n",
              "       'Level_of_meeting', 'Last_lead_update', 'Internal_POC', 'Resource',\n",
              "       'Internal_rating', 'Success_probability'],\n",
              "      dtype='object')"
            ]
          },
          "execution_count": 60,
          "metadata": {},
          "output_type": "execute_result"
        }
      ],
      "source": [
        "df2.columns"
      ]
    },
    {
      "cell_type": "code",
      "execution_count": null,
      "metadata": {
        "id": "MPZ2-F8-VAbj"
      },
      "outputs": [],
      "source": [
        "#removing unnecessary columns\n",
        "df2=df2.drop(['Deal_title','Lead_name','Contact_no','Geography','Location','POC_name','Designation','Lead_POC_email','Lead_source'],axis=1)"
      ]
    },
    {
      "cell_type": "code",
      "execution_count": null,
      "metadata": {
        "colab": {
          "base_uri": "https://localhost:8080/"
        },
        "id": "BBhgnEadVJBs",
        "outputId": "768fc690-1b32-4792-ef11-7cfc4c8ead5b"
      },
      "outputs": [
        {
          "data": {
            "text/plain": [
              "Industry                  object\n",
              "Deal_value                object\n",
              "Weighted_amount           object\n",
              "Date_of_creation          object\n",
              "Pitch                     object\n",
              "Lead_revenue              object\n",
              "Fund_category             object\n",
              "Hiring_candidate_role     object\n",
              "Level_of_meeting          object\n",
              "Last_lead_update          object\n",
              "Internal_POC              object\n",
              "Resource                  object\n",
              "Internal_rating            int64\n",
              "Success_probability      float64\n",
              "dtype: object"
            ]
          },
          "execution_count": 62,
          "metadata": {},
          "output_type": "execute_result"
        }
      ],
      "source": [
        "#checking the datatypes of the columns\n",
        "df2.dtypes"
      ]
    },
    {
      "cell_type": "code",
      "execution_count": null,
      "metadata": {
        "colab": {
          "base_uri": "https://localhost:8080/"
        },
        "id": "oqTwEN13VUcF",
        "outputId": "1e8084dc-e7e9-467a-fa01-efc25c28dd60"
      },
      "outputs": [
        {
          "data": {
            "text/plain": [
              "Industry                   1\n",
              "Deal_value                51\n",
              "Weighted_amount          525\n",
              "Date_of_creation           0\n",
              "Pitch                      0\n",
              "Lead_revenue               0\n",
              "Fund_category              0\n",
              "Hiring_candidate_role      0\n",
              "Level_of_meeting           0\n",
              "Last_lead_update         633\n",
              "Internal_POC               0\n",
              "Resource                 149\n",
              "Internal_rating            0\n",
              "Success_probability        0\n",
              "dtype: int64"
            ]
          },
          "execution_count": 63,
          "metadata": {},
          "output_type": "execute_result"
        }
      ],
      "source": [
        "#checking for null values\n",
        "df2.isnull().sum()"
      ]
    },
    {
      "cell_type": "code",
      "execution_count": null,
      "metadata": {
        "id": "uXIfMK0UVajO"
      },
      "outputs": [],
      "source": [
        "#dropping the null values\n",
        "df2=df2.dropna().reset_index()"
      ]
    },
    {
      "cell_type": "code",
      "execution_count": null,
      "metadata": {
        "id": "5SFcSeDQVksY"
      },
      "outputs": [],
      "source": [
        "del df2['index']"
      ]
    },
    {
      "cell_type": "code",
      "execution_count": null,
      "metadata": {
        "colab": {
          "base_uri": "https://localhost:8080/"
        },
        "id": "Y3cHgyKtVnDA",
        "outputId": "367bbb73-0418-4938-aeea-af4d4369fb64"
      },
      "outputs": [
        {
          "data": {
            "text/plain": [
              "Industry                 0\n",
              "Deal_value               0\n",
              "Weighted_amount          0\n",
              "Date_of_creation         0\n",
              "Pitch                    0\n",
              "Lead_revenue             0\n",
              "Fund_category            0\n",
              "Hiring_candidate_role    0\n",
              "Level_of_meeting         0\n",
              "Last_lead_update         0\n",
              "Internal_POC             0\n",
              "Resource                 0\n",
              "Internal_rating          0\n",
              "Success_probability      0\n",
              "dtype: int64"
            ]
          },
          "execution_count": 66,
          "metadata": {},
          "output_type": "execute_result"
        }
      ],
      "source": [
        "df2.isnull().sum()"
      ]
    },
    {
      "cell_type": "code",
      "execution_count": null,
      "metadata": {
        "colab": {
          "base_uri": "https://localhost:8080/"
        },
        "id": "PsE-b5opVsPN",
        "outputId": "defad32b-3fcd-48e3-8155-f92f991cf3a0"
      },
      "outputs": [
        {
          "name": "stderr",
          "output_type": "stream",
          "text": [
            "C:\\Users\\hp\\AppData\\Local\\Temp\\ipykernel_5196\\2552724000.py:2: FutureWarning: The default value of regex will change from True to False in a future version. In addition, single character regular expressions will *not* be treated as literal strings when regex=True.\n",
            "  df2['Deal_value']=df2['Deal_value'].str.replace('$','').astype(int)\n",
            "C:\\Users\\hp\\AppData\\Local\\Temp\\ipykernel_5196\\2552724000.py:3: FutureWarning: The default value of regex will change from True to False in a future version. In addition, single character regular expressions will *not* be treated as literal strings when regex=True.\n",
            "  df2['Weighted_amount']=df2['Weighted_amount'].str.replace('$','').astype(float)\n"
          ]
        }
      ],
      "source": [
        "#converting the object\n",
        "df2['Deal_value']=df2['Deal_value'].str.replace('$','').astype(int)\n",
        "df2['Weighted_amount']=df2['Weighted_amount'].str.replace('$','').astype(float)"
      ]
    },
    {
      "cell_type": "code",
      "execution_count": null,
      "metadata": {
        "id": "JuVs7nB2V37I"
      },
      "outputs": [],
      "source": [
        "#giving the numeric values to the attributes\n",
        "from sklearn.preprocessing import LabelEncoder\n",
        "le=LabelEncoder()\n",
        "cols=['Industry','Pitch','Lead_revenue','Fund_category','Hiring_candidate_role','Level_of_meeting','Last_lead_update','Resource']\n",
        "for i in cols:\n",
        "  df2[i]=le.fit_transform(df2[i].astype(str))"
      ]
    },
    {
      "cell_type": "code",
      "execution_count": null,
      "metadata": {
        "colab": {
          "base_uri": "https://localhost:8080/",
          "height": 244
        },
        "id": "TxgCZQmYV9sy",
        "outputId": "1b654002-a75b-4cee-dcc5-b47f4f3124b6"
      },
      "outputs": [
        {
          "data": {
            "text/html": [
              "<div>\n",
              "<style scoped>\n",
              "    .dataframe tbody tr th:only-of-type {\n",
              "        vertical-align: middle;\n",
              "    }\n",
              "\n",
              "    .dataframe tbody tr th {\n",
              "        vertical-align: top;\n",
              "    }\n",
              "\n",
              "    .dataframe thead th {\n",
              "        text-align: right;\n",
              "    }\n",
              "</style>\n",
              "<table border=\"1\" class=\"dataframe\">\n",
              "  <thead>\n",
              "    <tr style=\"text-align: right;\">\n",
              "      <th></th>\n",
              "      <th>Industry</th>\n",
              "      <th>Deal_value</th>\n",
              "      <th>Weighted_amount</th>\n",
              "      <th>Date_of_creation</th>\n",
              "      <th>Pitch</th>\n",
              "      <th>Lead_revenue</th>\n",
              "      <th>Fund_category</th>\n",
              "      <th>Hiring_candidate_role</th>\n",
              "      <th>Level_of_meeting</th>\n",
              "      <th>Last_lead_update</th>\n",
              "      <th>Internal_POC</th>\n",
              "      <th>Resource</th>\n",
              "      <th>Internal_rating</th>\n",
              "      <th>Success_probability</th>\n",
              "    </tr>\n",
              "  </thead>\n",
              "  <tbody>\n",
              "    <tr>\n",
              "      <th>0</th>\n",
              "      <td>31</td>\n",
              "      <td>39488</td>\n",
              "      <td>240876.8</td>\n",
              "      <td>07/10/2019</td>\n",
              "      <td>1</td>\n",
              "      <td>2</td>\n",
              "      <td>3</td>\n",
              "      <td>501</td>\n",
              "      <td>0</td>\n",
              "      <td>3</td>\n",
              "      <td>Brown,Maxine A</td>\n",
              "      <td>2</td>\n",
              "      <td>5</td>\n",
              "      <td>58.9</td>\n",
              "    </tr>\n",
              "    <tr>\n",
              "      <th>1</th>\n",
              "      <td>55</td>\n",
              "      <td>359392</td>\n",
              "      <td>2407926.4</td>\n",
              "      <td>07/27/2019</td>\n",
              "      <td>0</td>\n",
              "      <td>2</td>\n",
              "      <td>3</td>\n",
              "      <td>286</td>\n",
              "      <td>0</td>\n",
              "      <td>2</td>\n",
              "      <td>Georgakopoulos,Vasilios T</td>\n",
              "      <td>2</td>\n",
              "      <td>4</td>\n",
              "      <td>68.8</td>\n",
              "    </tr>\n",
              "    <tr>\n",
              "      <th>2</th>\n",
              "      <td>113</td>\n",
              "      <td>76774</td>\n",
              "      <td>468321.4</td>\n",
              "      <td>01/30/2021</td>\n",
              "      <td>1</td>\n",
              "      <td>2</td>\n",
              "      <td>2</td>\n",
              "      <td>611</td>\n",
              "      <td>1</td>\n",
              "      <td>3</td>\n",
              "      <td>Brown,Maxine A</td>\n",
              "      <td>4</td>\n",
              "      <td>1</td>\n",
              "      <td>64.5</td>\n",
              "    </tr>\n",
              "    <tr>\n",
              "      <th>3</th>\n",
              "      <td>17</td>\n",
              "      <td>418674</td>\n",
              "      <td>2637646.2</td>\n",
              "      <td>06/30/2019</td>\n",
              "      <td>0</td>\n",
              "      <td>1</td>\n",
              "      <td>1</td>\n",
              "      <td>381</td>\n",
              "      <td>2</td>\n",
              "      <td>0</td>\n",
              "      <td>Featherstone,Adrian R</td>\n",
              "      <td>1</td>\n",
              "      <td>3</td>\n",
              "      <td>66.3</td>\n",
              "    </tr>\n",
              "    <tr>\n",
              "      <th>4</th>\n",
              "      <td>9</td>\n",
              "      <td>245205</td>\n",
              "      <td>1642873.5</td>\n",
              "      <td>12/22/2020</td>\n",
              "      <td>1</td>\n",
              "      <td>2</td>\n",
              "      <td>0</td>\n",
              "      <td>212</td>\n",
              "      <td>1</td>\n",
              "      <td>1</td>\n",
              "      <td>Cashin,Marc C</td>\n",
              "      <td>2</td>\n",
              "      <td>5</td>\n",
              "      <td>74.1</td>\n",
              "    </tr>\n",
              "  </tbody>\n",
              "</table>\n",
              "</div>"
            ],
            "text/plain": [
              "   Industry  Deal_value  Weighted_amount Date_of_creation  Pitch  \\\n",
              "0        31       39488         240876.8       07/10/2019      1   \n",
              "1        55      359392        2407926.4       07/27/2019      0   \n",
              "2       113       76774         468321.4       01/30/2021      1   \n",
              "3        17      418674        2637646.2       06/30/2019      0   \n",
              "4         9      245205        1642873.5       12/22/2020      1   \n",
              "\n",
              "   Lead_revenue  Fund_category  Hiring_candidate_role  Level_of_meeting  \\\n",
              "0             2              3                    501                 0   \n",
              "1             2              3                    286                 0   \n",
              "2             2              2                    611                 1   \n",
              "3             1              1                    381                 2   \n",
              "4             2              0                    212                 1   \n",
              "\n",
              "   Last_lead_update               Internal_POC  Resource  Internal_rating  \\\n",
              "0                 3             Brown,Maxine A         2                5   \n",
              "1                 2  Georgakopoulos,Vasilios T         2                4   \n",
              "2                 3             Brown,Maxine A         4                1   \n",
              "3                 0      Featherstone,Adrian R         1                3   \n",
              "4                 1              Cashin,Marc C         2                5   \n",
              "\n",
              "   Success_probability  \n",
              "0                 58.9  \n",
              "1                 68.8  \n",
              "2                 64.5  \n",
              "3                 66.3  \n",
              "4                 74.1  "
            ]
          },
          "execution_count": 69,
          "metadata": {},
          "output_type": "execute_result"
        }
      ],
      "source": [
        "df2.head()"
      ]
    },
    {
      "cell_type": "code",
      "execution_count": null,
      "metadata": {
        "id": "ovKa3FWCWAmx"
      },
      "outputs": [],
      "source": [
        "X=df2.copy()\n",
        "y=df2.copy()"
      ]
    },
    {
      "cell_type": "code",
      "execution_count": null,
      "metadata": {
        "id": "eRv0JcXfWFG2"
      },
      "outputs": [],
      "source": [
        "y=y.drop(['Industry', 'Deal_value', 'Weighted_amount', 'Pitch', 'Lead_revenue',\n",
        "       'Fund_category', 'Hiring_candidate_role', 'Level_of_meeting',\n",
        "       'Last_lead_update', 'Resource', 'Internal_rating'],axis=1)\n",
        "del X['Success_probability']"
      ]
    },
    {
      "cell_type": "code",
      "execution_count": null,
      "metadata": {
        "colab": {
          "base_uri": "https://localhost:8080/",
          "height": 244
        },
        "id": "DDdFJS5mWI3l",
        "outputId": "1fdf00d5-85f9-45d8-c9b8-272ab9f985c0"
      },
      "outputs": [
        {
          "data": {
            "text/html": [
              "<div>\n",
              "<style scoped>\n",
              "    .dataframe tbody tr th:only-of-type {\n",
              "        vertical-align: middle;\n",
              "    }\n",
              "\n",
              "    .dataframe tbody tr th {\n",
              "        vertical-align: top;\n",
              "    }\n",
              "\n",
              "    .dataframe thead th {\n",
              "        text-align: right;\n",
              "    }\n",
              "</style>\n",
              "<table border=\"1\" class=\"dataframe\">\n",
              "  <thead>\n",
              "    <tr style=\"text-align: right;\">\n",
              "      <th></th>\n",
              "      <th>Industry</th>\n",
              "      <th>Deal_value</th>\n",
              "      <th>Weighted_amount</th>\n",
              "      <th>Date_of_creation</th>\n",
              "      <th>Pitch</th>\n",
              "      <th>Lead_revenue</th>\n",
              "      <th>Fund_category</th>\n",
              "      <th>Hiring_candidate_role</th>\n",
              "      <th>Level_of_meeting</th>\n",
              "      <th>Last_lead_update</th>\n",
              "      <th>Internal_POC</th>\n",
              "      <th>Resource</th>\n",
              "      <th>Internal_rating</th>\n",
              "    </tr>\n",
              "  </thead>\n",
              "  <tbody>\n",
              "    <tr>\n",
              "      <th>0</th>\n",
              "      <td>31</td>\n",
              "      <td>39488</td>\n",
              "      <td>240876.8</td>\n",
              "      <td>07/10/2019</td>\n",
              "      <td>1</td>\n",
              "      <td>2</td>\n",
              "      <td>3</td>\n",
              "      <td>501</td>\n",
              "      <td>0</td>\n",
              "      <td>3</td>\n",
              "      <td>Brown,Maxine A</td>\n",
              "      <td>2</td>\n",
              "      <td>5</td>\n",
              "    </tr>\n",
              "    <tr>\n",
              "      <th>1</th>\n",
              "      <td>55</td>\n",
              "      <td>359392</td>\n",
              "      <td>2407926.4</td>\n",
              "      <td>07/27/2019</td>\n",
              "      <td>0</td>\n",
              "      <td>2</td>\n",
              "      <td>3</td>\n",
              "      <td>286</td>\n",
              "      <td>0</td>\n",
              "      <td>2</td>\n",
              "      <td>Georgakopoulos,Vasilios T</td>\n",
              "      <td>2</td>\n",
              "      <td>4</td>\n",
              "    </tr>\n",
              "    <tr>\n",
              "      <th>2</th>\n",
              "      <td>113</td>\n",
              "      <td>76774</td>\n",
              "      <td>468321.4</td>\n",
              "      <td>01/30/2021</td>\n",
              "      <td>1</td>\n",
              "      <td>2</td>\n",
              "      <td>2</td>\n",
              "      <td>611</td>\n",
              "      <td>1</td>\n",
              "      <td>3</td>\n",
              "      <td>Brown,Maxine A</td>\n",
              "      <td>4</td>\n",
              "      <td>1</td>\n",
              "    </tr>\n",
              "    <tr>\n",
              "      <th>3</th>\n",
              "      <td>17</td>\n",
              "      <td>418674</td>\n",
              "      <td>2637646.2</td>\n",
              "      <td>06/30/2019</td>\n",
              "      <td>0</td>\n",
              "      <td>1</td>\n",
              "      <td>1</td>\n",
              "      <td>381</td>\n",
              "      <td>2</td>\n",
              "      <td>0</td>\n",
              "      <td>Featherstone,Adrian R</td>\n",
              "      <td>1</td>\n",
              "      <td>3</td>\n",
              "    </tr>\n",
              "    <tr>\n",
              "      <th>4</th>\n",
              "      <td>9</td>\n",
              "      <td>245205</td>\n",
              "      <td>1642873.5</td>\n",
              "      <td>12/22/2020</td>\n",
              "      <td>1</td>\n",
              "      <td>2</td>\n",
              "      <td>0</td>\n",
              "      <td>212</td>\n",
              "      <td>1</td>\n",
              "      <td>1</td>\n",
              "      <td>Cashin,Marc C</td>\n",
              "      <td>2</td>\n",
              "      <td>5</td>\n",
              "    </tr>\n",
              "  </tbody>\n",
              "</table>\n",
              "</div>"
            ],
            "text/plain": [
              "   Industry  Deal_value  Weighted_amount Date_of_creation  Pitch  \\\n",
              "0        31       39488         240876.8       07/10/2019      1   \n",
              "1        55      359392        2407926.4       07/27/2019      0   \n",
              "2       113       76774         468321.4       01/30/2021      1   \n",
              "3        17      418674        2637646.2       06/30/2019      0   \n",
              "4         9      245205        1642873.5       12/22/2020      1   \n",
              "\n",
              "   Lead_revenue  Fund_category  Hiring_candidate_role  Level_of_meeting  \\\n",
              "0             2              3                    501                 0   \n",
              "1             2              3                    286                 0   \n",
              "2             2              2                    611                 1   \n",
              "3             1              1                    381                 2   \n",
              "4             2              0                    212                 1   \n",
              "\n",
              "   Last_lead_update               Internal_POC  Resource  Internal_rating  \n",
              "0                 3             Brown,Maxine A         2                5  \n",
              "1                 2  Georgakopoulos,Vasilios T         2                4  \n",
              "2                 3             Brown,Maxine A         4                1  \n",
              "3                 0      Featherstone,Adrian R         1                3  \n",
              "4                 1              Cashin,Marc C         2                5  "
            ]
          },
          "execution_count": 72,
          "metadata": {},
          "output_type": "execute_result"
        }
      ],
      "source": [
        "X.head()"
      ]
    },
    {
      "cell_type": "code",
      "execution_count": null,
      "metadata": {
        "colab": {
          "base_uri": "https://localhost:8080/",
          "height": 206
        },
        "id": "0ExrXQq2WMOB",
        "outputId": "cfd419d6-ab91-4a2e-9f03-1348a4207807"
      },
      "outputs": [
        {
          "data": {
            "text/html": [
              "<div>\n",
              "<style scoped>\n",
              "    .dataframe tbody tr th:only-of-type {\n",
              "        vertical-align: middle;\n",
              "    }\n",
              "\n",
              "    .dataframe tbody tr th {\n",
              "        vertical-align: top;\n",
              "    }\n",
              "\n",
              "    .dataframe thead th {\n",
              "        text-align: right;\n",
              "    }\n",
              "</style>\n",
              "<table border=\"1\" class=\"dataframe\">\n",
              "  <thead>\n",
              "    <tr style=\"text-align: right;\">\n",
              "      <th></th>\n",
              "      <th>Date_of_creation</th>\n",
              "      <th>Internal_POC</th>\n",
              "      <th>Success_probability</th>\n",
              "    </tr>\n",
              "  </thead>\n",
              "  <tbody>\n",
              "    <tr>\n",
              "      <th>0</th>\n",
              "      <td>07/10/2019</td>\n",
              "      <td>Brown,Maxine A</td>\n",
              "      <td>58.9</td>\n",
              "    </tr>\n",
              "    <tr>\n",
              "      <th>1</th>\n",
              "      <td>07/27/2019</td>\n",
              "      <td>Georgakopoulos,Vasilios T</td>\n",
              "      <td>68.8</td>\n",
              "    </tr>\n",
              "    <tr>\n",
              "      <th>2</th>\n",
              "      <td>01/30/2021</td>\n",
              "      <td>Brown,Maxine A</td>\n",
              "      <td>64.5</td>\n",
              "    </tr>\n",
              "    <tr>\n",
              "      <th>3</th>\n",
              "      <td>06/30/2019</td>\n",
              "      <td>Featherstone,Adrian R</td>\n",
              "      <td>66.3</td>\n",
              "    </tr>\n",
              "    <tr>\n",
              "      <th>4</th>\n",
              "      <td>12/22/2020</td>\n",
              "      <td>Cashin,Marc C</td>\n",
              "      <td>74.1</td>\n",
              "    </tr>\n",
              "  </tbody>\n",
              "</table>\n",
              "</div>"
            ],
            "text/plain": [
              "  Date_of_creation               Internal_POC  Success_probability\n",
              "0       07/10/2019             Brown,Maxine A                 58.9\n",
              "1       07/27/2019  Georgakopoulos,Vasilios T                 68.8\n",
              "2       01/30/2021             Brown,Maxine A                 64.5\n",
              "3       06/30/2019      Featherstone,Adrian R                 66.3\n",
              "4       12/22/2020              Cashin,Marc C                 74.1"
            ]
          },
          "execution_count": 73,
          "metadata": {},
          "output_type": "execute_result"
        }
      ],
      "source": [
        "y.head()"
      ]
    },
    {
      "cell_type": "code",
      "execution_count": null,
      "metadata": {
        "id": "fQDq-lH5WV1X"
      },
      "outputs": [],
      "source": [
        "del y['Date_of_creation']\n",
        "del X['Date_of_creation']"
      ]
    },
    {
      "cell_type": "code",
      "execution_count": null,
      "metadata": {
        "id": "Bj_V7ie0WxIy"
      },
      "outputs": [],
      "source": [
        "del y['Internal_POC']\n",
        "del X['Internal_POC']"
      ]
    },
    {
      "cell_type": "code",
      "execution_count": null,
      "metadata": {
        "colab": {
          "base_uri": "https://localhost:8080/"
        },
        "id": "WxnkbcS7WZ5D",
        "outputId": "f09c345d-cbaa-447b-bc75-5928a69a5752"
      },
      "outputs": [
        {
          "name": "stdout",
          "output_type": "stream",
          "text": [
            "93\n",
            "494\n",
            "560\n"
          ]
        }
      ],
      "source": [
        "#model-1\n",
        "x_train,x_test,y_train,y_test=train_test_split(X,y,test_size=0.2,random_state=40)\n",
        "from sklearn.linear_model import LinearRegression\n",
        "model_lr1=LinearRegression()\n",
        "model_lr1.fit(x_train,y_train)\n",
        "y_pred=model_lr1.predict(x_test)\n",
        "y_test['Predicted']=y_pred\n",
        "y_test['Difference']=y_test['Success_probability']-y_test['Predicted']\n",
        "print(y_test['Difference'].loc[y_test['Difference']>10].count())\n",
        "print(y_test['Difference'].loc[(y_test['Difference']<=10) & (y_test['Difference']>=0)].count())\n",
        "print(y_test['Difference'].loc[y_test['Difference']<0].count())"
      ]
    },
    {
      "cell_type": "code",
      "execution_count": null,
      "metadata": {
        "colab": {
          "base_uri": "https://localhost:8080/"
        },
        "id": "m4JNZjT9W3yd",
        "outputId": "4294f8f6-5c54-4ca4-ff44-814d9624dadb"
      },
      "outputs": [
        {
          "name": "stdout",
          "output_type": "stream",
          "text": [
            "94\n",
            "499\n",
            "554\n",
            "0\n",
            "0.0027496613675310755\n"
          ]
        }
      ],
      "source": [
        "#model-1\n",
        "x_train,x_test,y_train,y_test=train_test_split(X,y,test_size=0.2,random_state=40)\n",
        "from sklearn.linear_model import Lasso\n",
        "model_l1=Lasso()\n",
        "model_l1.fit(x_train,y_train)\n",
        "y_pred=model_l1.predict(x_test)\n",
        "y_test['Predicted']=y_pred\n",
        "y_test['Difference']=y_test['Success_probability']-y_test['Predicted']\n",
        "print(y_test['Difference'].loc[y_test['Difference']>10].count())\n",
        "print(y_test['Difference'].loc[(y_test['Difference']<=10) & (y_test['Difference']>=0)].count())\n",
        "print(y_test['Difference'].loc[y_test['Difference']<0].count())\n",
        "print(y_test['Difference'].loc[y_test['Difference']>=50].count())\n",
        "print(y_test['Difference'].loc[(y_test['Difference']<=10) & (y_test['Difference']>=0)].min())"
      ]
    },
    {
      "cell_type": "code",
      "execution_count": null,
      "metadata": {},
      "outputs": [
        {
          "data": {
            "text/plain": [
              "['Model']"
            ]
          },
          "execution_count": 79,
          "metadata": {},
          "output_type": "execute_result"
        }
      ],
      "source": [
        "import joblib\n",
        "joblib.dump(model_l1,'Model')"
      ]
    }
  ],
  "metadata": {
    "colab": {
      "provenance": []
    },
    "kernelspec": {
      "display_name": "Python 3",
      "name": "python3"
    },
    "language_info": {
      "codemirror_mode": {
        "name": "ipython",
        "version": 3
      },
      "file_extension": ".py",
      "mimetype": "text/x-python",
      "name": "python",
      "nbconvert_exporter": "python",
      "pygments_lexer": "ipython3",
      "version": "3.10.7"
    }
  },
  "nbformat": 4,
  "nbformat_minor": 0
}
